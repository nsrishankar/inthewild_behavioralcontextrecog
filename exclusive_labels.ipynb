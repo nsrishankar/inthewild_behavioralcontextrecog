{
 "cells": [
  {
   "cell_type": "markdown",
   "metadata": {
    "toc": true
   },
   "source": [
    "<h1>Table of Contents<span class=\"tocSkip\"></span></h1>\n",
    "<div class=\"toc\"><ul class=\"toc-item\"><li><span><a href=\"#Function-to-clean-labels-in-the-original-dataset.-Using-logic-to-set-mutually-exclusive-labels-to-0-if-they-are-currently-labeled-as-nan\" data-toc-modified-id=\"Function-to-clean-labels-in-the-original-dataset.-Using-logic-to-set-mutually-exclusive-labels-to-0-if-they-are-currently-labeled-as-nan-1\"><span class=\"toc-item-num\">1&nbsp;&nbsp;</span>Function to clean labels in the original dataset. Using logic to set mutually exclusive labels to 0 if they are currently labeled as nan</a></span></li></ul></div>"
   ]
  },
  {
   "cell_type": "markdown",
   "metadata": {},
   "source": [
    "## Function to clean labels in the original dataset. Using logic to set mutually exclusive labels to 0 if they are currently labeled as nan"
   ]
  },
  {
   "cell_type": "code",
   "execution_count": 1,
   "metadata": {},
   "outputs": [],
   "source": [
    "import math\n",
    "import os\n",
    "import numpy as np\n",
    "import pandas as pd\n",
    "import gzip\n",
    "import glob\n",
    "import pickle\n",
    "import copy\n",
    "import glob\n",
    "from io import StringIO\n",
    "import importlib.machinery"
   ]
  },
  {
   "cell_type": "code",
   "execution_count": 2,
   "metadata": {},
   "outputs": [],
   "source": [
    "globs=glob.glob('dataset/Extrasensory_uuid_fl/*')"
   ]
  },
  {
   "cell_type": "code",
   "execution_count": 3,
   "metadata": {},
   "outputs": [],
   "source": [
    "raw_data=pd.read_csv(globs[0])\n",
    "# Features 0-225\n",
    "# Labels 226-227\n",
    "# for ind,col in enumerate(raw_data.columns.values): # Enumerate column headers\n",
    "#     print(ind,col)"
   ]
  },
  {
   "cell_type": "code",
   "execution_count": 4,
   "metadata": {},
   "outputs": [],
   "source": [
    "x_data=raw_data.iloc[:,:226] # Features\n",
    "y_data=raw_data.iloc[:,226:] # Labels"
   ]
  },
  {
   "cell_type": "code",
   "execution_count": 5,
   "metadata": {},
   "outputs": [],
   "source": [
    "y_data_labelnames=y_data.columns.values"
   ]
  },
  {
   "cell_type": "code",
   "execution_count": 6,
   "metadata": {},
   "outputs": [],
   "source": [
    "labelnames_dict={}\n",
    "for ind in range(len(y_data_labelnames)):\n",
    "    key=y_data_labelnames[ind]\n",
    "    value=np.delete(copy.deepcopy(y_data_labelnames),ind)\n",
    "    labelnames_dict[key]=value"
   ]
  },
  {
   "cell_type": "code",
   "execution_count": 7,
   "metadata": {},
   "outputs": [],
   "source": [
    "keys=[*labelnames_dict.keys()] # Unpack iterable to a list with *\n",
    "\n",
    "val=labelnames_dict[keys[0]]"
   ]
  },
  {
   "cell_type": "code",
   "execution_count": 8,
   "metadata": {},
   "outputs": [],
   "source": [
    "exclusivelabel_df=pd.DataFrame(data=None,index=y_data_labelnames,columns=y_data_labelnames)\n",
    "np.fill_diagonal(exclusivelabel_df.values, -1)"
   ]
  },
  {
   "cell_type": "code",
   "execution_count": 15,
   "metadata": {},
   "outputs": [
    {
     "name": "stdin",
     "output_type": "stream",
     "text": [
      "Label label:TOILET Target label:DRESSING 1\n",
      "Label label:TOILET Target label:AT_THE_GYM 1\n",
      "Label label:TOILET Target label:STAIRS_-_GOING_UP 0\n",
      "Label label:TOILET Target label:STAIRS_-_GOING_DOWN 0\n",
      "Label label:TOILET Target label:ELEVATOR 0\n",
      "Label label:TOILET Target label:OR_standing 1\n",
      "Label label:TOILET Target label:AT_SCHOOL 1\n",
      "Label label:TOILET Target label:PHONE_IN_HAND 1\n",
      "Label label:TOILET Target label:PHONE_IN_BAG 1\n",
      "Label label:TOILET Target label:PHONE_ON_TABLE 1\n",
      "Label label:TOILET Target label:WITH_CO-WORKERS 0\n",
      "Label label:TOILET Target label:WITH_FRIENDS 0\n",
      "Label label:TOILET Target label_source 0\n",
      "Label label:GROOMING Target label:DRESSING 1\n",
      "Label label:GROOMING Target label:AT_THE_GYM 1\n",
      "Label label:GROOMING Target label:STAIRS_-_GOING_UP 0\n",
      "Label label:GROOMING Target label:STAIRS_-_GOING_DOWN 0\n",
      "Label label:GROOMING Target label:ELEVATOR 0\n",
      "Label label:GROOMING Target label:OR_standing 1\n",
      "Label label:GROOMING Target label:AT_SCHOOL 1\n",
      "Label label:GROOMING Target label:PHONE_IN_HAND 1\n",
      "Label label:GROOMING Target label:PHONE_IN_BAG 1\n",
      "Label label:GROOMING Target label:PHONE_ON_TABLE 1\n",
      "Label label:GROOMING Target label:WITH_CO-WORKERS 0\n",
      "Label label:GROOMING Target label:WITH_FRIENDS 0\n",
      "Label label:GROOMING Target label_source 0\n",
      "Label label:DRESSING Target label:AT_THE_GYM 1\n",
      "Label label:DRESSING Target label:STAIRS_-_GOING_UP 0\n",
      "Label label:DRESSING Target label:STAIRS_-_GOING_DOWN 0\n",
      "Label label:DRESSING Target label:ELEVATOR 0\n",
      "Label label:DRESSING Target label:OR_standing 1\n",
      "Label label:DRESSING Target label:AT_SCHOOL 1\n",
      "Label label:DRESSING Target label:PHONE_IN_HAND 1\n",
      "Label label:DRESSING Target label:PHONE_IN_BAG 1\n",
      "Label label:DRESSING Target label:PHONE_ON_TABLE 1\n",
      "Label label:DRESSING Target label:WITH_CO-WORKERS 0\n",
      "Label label:DRESSING Target label:WITH_FRIENDS 0\n",
      "Label label:DRESSING Target label_source 0\n",
      "Label label:AT_THE_GYM Target label:STAIRS_-_GOING_UP 1\n",
      "Label label:AT_THE_GYM Target label:STAIRS_-_GOING_DOWN 1\n",
      "Label label:AT_THE_GYM Target label:ELEVATOR 0\n",
      "Label label:AT_THE_GYM Target label:OR_standing 0\n",
      "Label label:AT_THE_GYM Target label:AT_SCHOOL 1\n",
      "Label label:AT_THE_GYM Target label:PHONE_IN_HAND 1\n",
      "Label label:AT_THE_GYM Target label:PHONE_IN_BAG 1\n",
      "Label label:AT_THE_GYM Target label:PHONE_ON_TABLE 1\n",
      "Label label:AT_THE_GYM Target label:WITH_CO-WORKERS 1\n",
      "Label label:AT_THE_GYM Target label:WITH_FRIENDS 1\n",
      "Label label:AT_THE_GYM Target label_source 0\n",
      "Label label:STAIRS_-_GOING_UP Target label:STAIRS_-_GOING_DOWN 0\n",
      "Label label:STAIRS_-_GOING_UP Target label:ELEVATOR 0\n",
      "Label label:STAIRS_-_GOING_UP Target label:OR_standing 0\n",
      "Label label:STAIRS_-_GOING_UP Target label:AT_SCHOOL 1\n",
      "Label label:STAIRS_-_GOING_UP Target label:PHONE_IN_HAND 1\n",
      "Label label:STAIRS_-_GOING_UP Target label:PHONE_IN_BAG 1\n",
      "Label label:STAIRS_-_GOING_UP Target label:PHONE_ON_TABLE 1\n",
      "Label label:STAIRS_-_GOING_UP Target label:WITH_CO-WORKERS 1\n",
      "Label label:STAIRS_-_GOING_UP Target label:WITH_FRIENDS 1\n",
      "Label label:STAIRS_-_GOING_UP Target label_source 0\n",
      "Label label:STAIRS_-_GOING_DOWN Target label:ELEVATOR 0\n",
      "Label label:STAIRS_-_GOING_DOWN Target label:OR_standing 0\n",
      "Label label:STAIRS_-_GOING_DOWN Target label:AT_SCHOOL 1\n",
      "Label label:STAIRS_-_GOING_DOWN Target label:PHONE_IN_HAND 1\n",
      "Label label:STAIRS_-_GOING_DOWN Target label:PHONE_IN_BAG 1\n",
      "Label label:STAIRS_-_GOING_DOWN Target label:PHONE_ON_TABLE 1\n",
      "Label label:STAIRS_-_GOING_DOWN Target label:WITH_CO-WORKERS 1\n",
      "Label label:STAIRS_-_GOING_DOWN Target label:WITH_FRIENDS 1\n",
      "Label label:STAIRS_-_GOING_DOWN Target label_source 0\n",
      "Label label:ELEVATOR Target label:OR_standing 1\n",
      "Label label:ELEVATOR Target label:AT_SCHOOL 0\n",
      "Label label:ELEVATOR Target label:PHONE_IN_HAND 1\n",
      "Label label:ELEVATOR Target label:PHONE_IN_BAG 1\n",
      "Label label:ELEVATOR Target label:PHONE_ON_TABLE 1\n",
      "Label label:ELEVATOR Target label:WITH_CO-WORKERS 1\n",
      "Label label:ELEVATOR Target label:WITH_FRIENDS 1\n",
      "Label label:ELEVATOR Target label_source 0\n",
      "Label label:OR_standing Target label:AT_SCHOOL 1\n",
      "Label label:OR_standing Target label:PHONE_IN_HAND 1\n",
      "Label label:OR_standing Target label:PHONE_IN_BAG 1\n",
      "Label label:OR_standing Target label:PHONE_ON_TABLE 1\n",
      "Label label:OR_standing Target label:WITH_CO-WORKERS 1\n",
      "Label label:OR_standing Target label:WITH_FRIENDS 1\n",
      "Label label:OR_standing Target label_source 0\n",
      "Label label:AT_SCHOOL Target label:PHONE_IN_HAND 1\n",
      "Label label:AT_SCHOOL Target label:PHONE_IN_BAG 1\n",
      "Label label:AT_SCHOOL Target label:PHONE_ON_TABLE 1\n",
      "Label label:AT_SCHOOL Target label:WITH_CO-WORKERS 1\n",
      "Label label:AT_SCHOOL Target label:WITH_FRIENDS 1\n",
      "Label label:AT_SCHOOL Target label_source 0\n",
      "Label label:PHONE_IN_HAND Target label:PHONE_IN_BAG 0\n",
      "Label label:PHONE_IN_HAND Target label:PHONE_ON_TABLE 0\n",
      "Label label:PHONE_IN_HAND Target label:WITH_CO-WORKERS 1\n",
      "Label label:PHONE_IN_HAND Target label:WITH_FRIENDS 1\n",
      "Label label:PHONE_IN_HAND Target label_source 0\n",
      "Label label:PHONE_IN_BAG Target label:PHONE_ON_TABLE 0\n",
      "Label label:PHONE_IN_BAG Target label:WITH_CO-WORKERS 1\n",
      "Label label:PHONE_IN_BAG Target label:WITH_FRIENDS 1\n",
      "Label label:PHONE_IN_BAG Target label_source 0\n",
      "Label label:PHONE_ON_TABLE Target label:WITH_CO-WORKERS 1\n",
      "Label label:PHONE_ON_TABLE Target label:WITH_FRIENDS 1\n",
      "Label label:PHONE_ON_TABLE Target label_source 0\n",
      "Label label:WITH_CO-WORKERS Target label:WITH_FRIENDS 1\n",
      "Label label:WITH_CO-WORKERS Target label_source 0\n",
      "Label label:WITH_FRIENDS Target label_source 0\n"
     ]
    }
   ],
   "source": [
    "n_row,n_col=exclusivelabel_df.shape\n",
    "for row in range(n_row):\n",
    "    for col in range(n_col):\n",
    "        val=exclusivelabel_df.iat[row,col]\n",
    "        if(math.isnan(val)):\n",
    "            overwrite_val=input(\"Label {} Target {}\".format(y_data_labelnames[row],y_data_labelnames[col]))\n",
    "            overwrite_val=int(overwrite_val)\n",
    "            exclusivelabel_df.iloc[row,col]=overwrite_val\n",
    "            if(math.isnan(exclusivelabel_df.iat[col,row])):\n",
    "                exclusivelabel_df.iloc[col,row]=overwrite_val"
   ]
  },
  {
   "cell_type": "code",
   "execution_count": 21,
   "metadata": {},
   "outputs": [],
   "source": [
    "exclusivelabel_df.to_csv(\"exclusive_labels.csv\")"
   ]
  },
  {
   "cell_type": "code",
   "execution_count": null,
   "metadata": {},
   "outputs": [],
   "source": []
  }
 ],
 "metadata": {
  "kernelspec": {
   "display_name": "Python 3",
   "language": "python",
   "name": "python3"
  },
  "language_info": {
   "codemirror_mode": {
    "name": "ipython",
    "version": 3
   },
   "file_extension": ".py",
   "mimetype": "text/x-python",
   "name": "python",
   "nbconvert_exporter": "python",
   "pygments_lexer": "ipython3",
   "version": "3.6.8"
  },
  "toc": {
   "base_numbering": 1,
   "nav_menu": {},
   "number_sections": true,
   "sideBar": true,
   "skip_h1_title": false,
   "title_cell": "Table of Contents",
   "title_sidebar": "Contents",
   "toc_cell": true,
   "toc_position": {},
   "toc_section_display": true,
   "toc_window_display": true
  },
  "varInspector": {
   "cols": {
    "lenName": 16,
    "lenType": 16,
    "lenVar": 40
   },
   "kernels_config": {
    "python": {
     "delete_cmd_postfix": "",
     "delete_cmd_prefix": "del ",
     "library": "var_list.py",
     "varRefreshCmd": "print(var_dic_list())"
    },
    "r": {
     "delete_cmd_postfix": ") ",
     "delete_cmd_prefix": "rm(",
     "library": "var_list.r",
     "varRefreshCmd": "cat(var_dic_list()) "
    }
   },
   "types_to_exclude": [
    "module",
    "function",
    "builtin_function_or_method",
    "instance",
    "_Feature"
   ],
   "window_display": false
  }
 },
 "nbformat": 4,
 "nbformat_minor": 2
}
