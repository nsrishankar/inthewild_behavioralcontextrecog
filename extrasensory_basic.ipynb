{
 "cells": [
  {
   "cell_type": "markdown",
   "metadata": {
    "toc": true
   },
   "source": [
    "<h1>Table of Contents<span class=\"tocSkip\"></span></h1>\n",
    "<div class=\"toc\"><ul class=\"toc-item\"><li><span><a href=\"#Imports\" data-toc-modified-id=\"Imports-1\"><span class=\"toc-item-num\">1&nbsp;&nbsp;</span>Imports</a></span></li><li><span><a href=\"#Dataset-parsers-and-cleaning-functions\" data-toc-modified-id=\"Dataset-parsers-and-cleaning-functions-2\"><span class=\"toc-item-num\">2&nbsp;&nbsp;</span>Dataset parsers and cleaning functions</a></span></li><li><span><a href=\"#User-data-test\" data-toc-modified-id=\"User-data-test-3\"><span class=\"toc-item-num\">3&nbsp;&nbsp;</span>User data test</a></span></li><li><span><a href=\"#Training\" data-toc-modified-id=\"Training-4\"><span class=\"toc-item-num\">4&nbsp;&nbsp;</span>Training</a></span><ul class=\"toc-item\"><li><span><a href=\"#Importing-data-(no-cross-validation)\" data-toc-modified-id=\"Importing-data-(no-cross-validation)-4.1\"><span class=\"toc-item-num\">4.1&nbsp;&nbsp;</span>Importing data (no cross-validation)</a></span></li></ul></li><li><span><a href=\"#Single-Class-Classifier:-Training\" data-toc-modified-id=\"Single-Class-Classifier:-Training-5\"><span class=\"toc-item-num\">5&nbsp;&nbsp;</span>Single Class Classifier: Training</a></span><ul class=\"toc-item\"><li><span><a href=\"#Model-Choices\" data-toc-modified-id=\"Model-Choices-5.1\"><span class=\"toc-item-num\">5.1&nbsp;&nbsp;</span>Model Choices</a></span></li><li><span><a href=\"#Logistic-Regression\" data-toc-modified-id=\"Logistic-Regression-5.2\"><span class=\"toc-item-num\">5.2&nbsp;&nbsp;</span>Logistic Regression</a></span></li><li><span><a href=\"#Support-Vector\" data-toc-modified-id=\"Support-Vector-5.3\"><span class=\"toc-item-num\">5.3&nbsp;&nbsp;</span>Support-Vector</a></span></li><li><span><a href=\"#Random-Forest\" data-toc-modified-id=\"Random-Forest-5.4\"><span class=\"toc-item-num\">5.4&nbsp;&nbsp;</span>Random Forest</a></span></li><li><span><a href=\"#ANN\" data-toc-modified-id=\"ANN-5.5\"><span class=\"toc-item-num\">5.5&nbsp;&nbsp;</span>ANN</a></span></li></ul></li><li><span><a href=\"#Custom-Cross-Validation\" data-toc-modified-id=\"Custom-Cross-Validation-6\"><span class=\"toc-item-num\">6&nbsp;&nbsp;</span>Custom Cross-Validation</a></span></li><li><span><a href=\"#Given-Cross-Validation-splits\" data-toc-modified-id=\"Given-Cross-Validation-splits-7\"><span class=\"toc-item-num\">7&nbsp;&nbsp;</span>Given Cross-Validation splits</a></span></li></ul></div>"
   ]
  },
  {
   "cell_type": "markdown",
   "metadata": {},
   "source": [
    "# Imports"
   ]
  },
  {
   "cell_type": "code",
   "execution_count": 17,
   "metadata": {
    "code_folding": [
     0
    ]
   },
   "outputs": [],
   "source": [
    "# Required imports\n",
    "import numpy as np\n",
    "import pandas as pd\n",
    "import gzip\n",
    "import glob\n",
    "import pickle\n",
    "from io import StringIO\n",
    "import importlib.machinery\n",
    "\n",
    "from sklearn.model_selection import train_test_split as TT_split\n",
    "# Models\n",
    "from sklearn.svm import SVC\n",
    "from sklearn.ensemble import RandomForestClassifier\n",
    "from sklearn.linear_model import LogisticRegression\n",
    "from sklearn.neural_network import MLPClassifier\n",
    "\n",
    "from sklearn.metrics import accuracy_score,confusion_matrix,balanced_accuracy_score\n",
    "#from sklearn.model_selection import StratifiedShuffleSplit, ShuffleSplit, KFold, StratifiedKFold\n",
    "#from sklearn.preprocessing import StandardScaler\n",
    "\n",
    "random_state=10"
   ]
  },
  {
   "cell_type": "code",
   "execution_count": 2,
   "metadata": {
    "code_folding": [
     0
    ]
   },
   "outputs": [],
   "source": [
    "# Data location and sample user\n",
    "prefix='dataset/Extrasensory_uuid_fl_uTAR/'\n",
    "cross_validation_user_loc='dataset/cv_5_folds/'\n",
    "user_sample='3600D531-0C55-44A7-AE95-A7A38519464E.features_labels'"
   ]
  },
  {
   "cell_type": "markdown",
   "metadata": {},
   "source": [
    "# Dataset parsers and cleaning functions"
   ]
  },
  {
   "cell_type": "code",
   "execution_count": 3,
   "metadata": {
    "code_folding": [
     0
    ]
   },
   "outputs": [],
   "source": [
    "# Dataset parsers for header/ body for CSVs\n",
    "\n",
    "def parse_header_of_csv(csv_str):\n",
    "    # Isolate the headline columns:\n",
    "    headline = csv_str[:csv_str.index('\\n')];\n",
    "    columns = headline.split(',');\n",
    "\n",
    "    # The first column should be timestamp:\n",
    "    assert columns[0] == 'timestamp';\n",
    "    # The last column should be label_source:\n",
    "    assert columns[-1] == 'label_source';\n",
    "    \n",
    "    # Search for the column of the first label:\n",
    "    for (ci,col) in enumerate(columns):\n",
    "        if col.startswith('label:'):\n",
    "            first_label_ind = ci;\n",
    "            break;\n",
    "        pass;\n",
    "\n",
    "    # Feature columns come after timestamp and before the labels:\n",
    "    feature_names = columns[1:first_label_ind];\n",
    "    # Then come the labels, till the one-before-last column:\n",
    "    label_names = columns[first_label_ind:-1];\n",
    "    for (li,label) in enumerate(label_names):\n",
    "        # In the CSV the label names appear with prefix 'label:', but we don't need it after reading the data:\n",
    "        assert label.startswith('label:');\n",
    "        label_names[li] = label.replace('label:','');\n",
    "        pass;\n",
    "    \n",
    "    return (feature_names,label_names);\n",
    "\n",
    "def parse_body_of_csv(csv_str,n_features):\n",
    "    # Read the entire CSV body into a single numeric matrix:\n",
    "    full_table = np.loadtxt(StringIO(csv_str),delimiter=',',skiprows=1);\n",
    "    \n",
    "    # Timestamp is the primary key for the records (examples):\n",
    "    timestamps = full_table[:,0].astype(int);\n",
    "    \n",
    "    # Read the sensor features:\n",
    "    X = full_table[:,1:(n_features+1)];\n",
    "    \n",
    "    # Read the binary label values, and the 'missing label' indicators:\n",
    "    trinary_labels_mat = full_table[:,(n_features+1):-1]; # This should have values of either 0., 1. or NaN\n",
    "    M = np.isnan(trinary_labels_mat); # M is the missing label matrix\n",
    "    Y = np.where(M,0,trinary_labels_mat) > 0.; # Y is the label matrix\n",
    "    \n",
    "    return (X,Y,M,timestamps);\n",
    "\n",
    "def read_user_data(directory):\n",
    "    print('Reading {}'.format(directory.split(\"/\")[-1]))\n",
    "\n",
    "    # Read the entire csv file of the user:\n",
    "    with gzip.open(directory,'rb') as fid:\n",
    "        csv_str = fid.read();\n",
    "        csv_str = csv_str.decode(\"utf-8\")\n",
    "        pass;\n",
    "\n",
    "    (feature_names,label_names) = parse_header_of_csv(csv_str);\n",
    "    n_features = len(feature_names);\n",
    "    (X,Y,M,timestamps) = parse_body_of_csv(csv_str,n_features);\n",
    "\n",
    "    return (X,Y,M,timestamps,feature_names,label_names);"
   ]
  },
  {
   "cell_type": "code",
   "execution_count": 4,
   "metadata": {
    "code_folding": [
     0
    ]
   },
   "outputs": [],
   "source": [
    "# Clean labels\n",
    "def clean_labels(input_label):\n",
    "    if label.endswith('_'):\n",
    "        label=label[:-1]+')'\n",
    "    label=label.replace('__',' (').replace('_',' ')\n",
    "    label=label[0]+label[1:].lower()\n",
    "    label=label.replace('i m','I\\'m')\n",
    "    return label"
   ]
  },
  {
   "cell_type": "code",
   "execution_count": 5,
   "metadata": {
    "code_folding": [
     0
    ]
   },
   "outputs": [],
   "source": [
    "# Get a summary of the sensor feature\n",
    "'''\n",
    "# Summarize features as we are only using phone_acc,phone_gyro,phone_mag,phone_loc,phone_audio,\n",
    "# phone_app,phone_battery,phone_use,phone_callstat,phone_wifi,phone_lf,phone_time\n",
    "# We are ignoring the use of the smartwatch features. There are definitely features that will be used\n",
    "# much more (e.g. than the phone_callstat) but we'll leave that up to the ML algorithm.\n",
    "'''\n",
    "def summarize_features(feature_list):\n",
    "    summary_feature_list=np.empty_like(feature_list)\n",
    "    for (ind,feature) in enumerate(feature_list):\n",
    "        if feature.startswith('raw_acc'):\n",
    "            summary_feature_list[ind]='phone_acc' \n",
    "        if feature.startswith('proc_gyro'):\n",
    "            summary_feature_list[ind]='phone_gyro'\n",
    "        if feature.startswith('raw_magnet'):\n",
    "            summary_feature_list[ind]='phone_mag'\n",
    "        if feature.startswith('watch_acc'):\n",
    "            summary_feature_list[ind]='watch_acc'\n",
    "        if feature.startswith('watch_heading'):\n",
    "            summary_feature_list[ind]='watch_dir'\n",
    "        if feature.startswith('location'):\n",
    "            summary_feature_list[ind]='phone_loc'\n",
    "        if feature.startswith('audio_naive'):\n",
    "            summary_feature_list[ind]='phone_audio'\n",
    "        if feature.startswith('discrete:app_state'):\n",
    "            summary_feature_list[ind]='phone_app'\n",
    "        if feature.startswith('discrete:battery'):\n",
    "            summary_feature_list[ind]='phone_battery'\n",
    "        if feature.startswith('discrete:on'):\n",
    "            summary_feature_list[ind]='phone_use'\n",
    "        if feature.startswith('discrete:ringer'):\n",
    "            summary_feature_list[ind]='phone_callstat'\n",
    "        if feature.startswith('discrete:wifi'):\n",
    "            summary_feature_list[ind]='phone_wifi'\n",
    "        if feature.startswith('lf'):\n",
    "            summary_feature_list[ind]='phone_lf'\n",
    "        if feature.startswith('discrete:time'):\n",
    "            summary_feature_list[ind]='phone_time'\n",
    "\n",
    "    return summary_feature_list"
   ]
  },
  {
   "cell_type": "markdown",
   "metadata": {},
   "source": [
    "# User data test"
   ]
  },
  {
   "cell_type": "code",
   "execution_count": 6,
   "metadata": {
    "code_folding": [
     0
    ]
   },
   "outputs": [
    {
     "name": "stdout",
     "output_type": "stream",
     "text": [
      "Reading 3600D531-0C55-44A7-AE95-A7A38519464E.features_labels.csv.gz\n"
     ]
    }
   ],
   "source": [
    "# Reading sample data\n",
    "sample_loc='{}/{}.csv.gz'.format(prefix,user_sample)\n",
    "x_user,y_user,missedlabel_user,tstamp_user,featurename_user,labelname_user=read_user_data(sample_loc)"
   ]
  },
  {
   "cell_type": "code",
   "execution_count": 7,
   "metadata": {
    "code_folding": [
     0
    ],
    "collapsed": true
   },
   "outputs": [
    {
     "name": "stdout",
     "output_type": "stream",
     "text": [
      "Data shape input for user (Len minutes/num examples, num sensors):  (5203, 225)\n",
      "Label shape for user (Len minutes, num labels):  (5203, 51) \n",
      "\n",
      "Sensor feature names:\n",
      "\n",
      "0 :: phone_acc ::--> raw_acc:magnitude_stats:mean\n",
      "\n",
      "1 :: phone_acc ::--> raw_acc:magnitude_stats:std\n",
      "\n",
      "2 :: phone_acc ::--> raw_acc:magnitude_stats:moment3\n",
      "\n",
      "3 :: phone_acc ::--> raw_acc:magnitude_stats:moment4\n",
      "\n",
      "4 :: phone_acc ::--> raw_acc:magnitude_stats:percentile25\n",
      "\n",
      "5 :: phone_acc ::--> raw_acc:magnitude_stats:percentile50\n",
      "\n",
      "6 :: phone_acc ::--> raw_acc:magnitude_stats:percentile75\n",
      "\n",
      "7 :: phone_acc ::--> raw_acc:magnitude_stats:value_entropy\n",
      "\n",
      "8 :: phone_acc ::--> raw_acc:magnitude_stats:time_entropy\n",
      "\n",
      "9 :: phone_acc ::--> raw_acc:magnitude_spectrum:log_energy_band0\n",
      "\n",
      "10 :: phone_acc ::--> raw_acc:magnitude_spectrum:log_energy_band1\n",
      "\n",
      "11 :: phone_acc ::--> raw_acc:magnitude_spectrum:log_energy_band2\n",
      "\n",
      "12 :: phone_acc ::--> raw_acc:magnitude_spectrum:log_energy_band3\n",
      "\n",
      "13 :: phone_acc ::--> raw_acc:magnitude_spectrum:log_energy_band4\n",
      "\n",
      "14 :: phone_acc ::--> raw_acc:magnitude_spectrum:spectral_entropy\n",
      "\n",
      "15 :: phone_acc ::--> raw_acc:magnitude_autocorrelation:period\n",
      "\n",
      "16 :: phone_acc ::--> raw_acc:magnitude_autocorrelation:normalized_ac\n",
      "\n",
      "17 :: phone_acc ::--> raw_acc:3d:mean_x\n",
      "\n",
      "18 :: phone_acc ::--> raw_acc:3d:mean_y\n",
      "\n",
      "19 :: phone_acc ::--> raw_acc:3d:mean_z\n",
      "\n",
      "20 :: phone_acc ::--> raw_acc:3d:std_x\n",
      "\n",
      "21 :: phone_acc ::--> raw_acc:3d:std_y\n",
      "\n",
      "22 :: phone_acc ::--> raw_acc:3d:std_z\n",
      "\n",
      "23 :: phone_acc ::--> raw_acc:3d:ro_xy\n",
      "\n",
      "24 :: phone_acc ::--> raw_acc:3d:ro_xz\n",
      "\n",
      "25 :: phone_acc ::--> raw_acc:3d:ro_yz\n",
      "\n",
      "26 :: phone_gyro ::--> proc_gyro:magnitude_stats:mean\n",
      "\n",
      "27 :: phone_gyro ::--> proc_gyro:magnitude_stats:std\n",
      "\n",
      "28 :: phone_gyro ::--> proc_gyro:magnitude_stats:moment3\n",
      "\n",
      "29 :: phone_gyro ::--> proc_gyro:magnitude_stats:moment4\n",
      "\n",
      "30 :: phone_gyro ::--> proc_gyro:magnitude_stats:percentile25\n",
      "\n",
      "31 :: phone_gyro ::--> proc_gyro:magnitude_stats:percentile50\n",
      "\n",
      "32 :: phone_gyro ::--> proc_gyro:magnitude_stats:percentile75\n",
      "\n",
      "33 :: phone_gyro ::--> proc_gyro:magnitude_stats:value_entropy\n",
      "\n",
      "34 :: phone_gyro ::--> proc_gyro:magnitude_stats:time_entropy\n",
      "\n",
      "35 :: phone_gyro ::--> proc_gyro:magnitude_spectrum:log_energy_band0\n",
      "\n",
      "36 :: phone_gyro ::--> proc_gyro:magnitude_spectrum:log_energy_band1\n",
      "\n",
      "37 :: phone_gyro ::--> proc_gyro:magnitude_spectrum:log_energy_band2\n",
      "\n",
      "38 :: phone_gyro ::--> proc_gyro:magnitude_spectrum:log_energy_band3\n",
      "\n",
      "39 :: phone_gyro ::--> proc_gyro:magnitude_spectrum:log_energy_band4\n",
      "\n",
      "40 :: phone_gyro ::--> proc_gyro:magnitude_spectrum:spectral_entropy\n",
      "\n",
      "41 :: phone_gyro ::--> proc_gyro:magnitude_autocorrelation:period\n",
      "\n",
      "42 :: phone_gyro ::--> proc_gyro:magnitude_autocorrelation:normalized_ac\n",
      "\n",
      "43 :: phone_gyro ::--> proc_gyro:3d:mean_x\n",
      "\n",
      "44 :: phone_gyro ::--> proc_gyro:3d:mean_y\n",
      "\n",
      "45 :: phone_gyro ::--> proc_gyro:3d:mean_z\n",
      "\n",
      "46 :: phone_gyro ::--> proc_gyro:3d:std_x\n",
      "\n",
      "47 :: phone_gyro ::--> proc_gyro:3d:std_y\n",
      "\n",
      "48 :: phone_gyro ::--> proc_gyro:3d:std_z\n",
      "\n",
      "49 :: phone_gyro ::--> proc_gyro:3d:ro_xy\n",
      "\n",
      "50 :: phone_gyro ::--> proc_gyro:3d:ro_xz\n",
      "\n",
      "51 :: phone_gyro ::--> proc_gyro:3d:ro_yz\n",
      "\n",
      "52 :: phone_mag ::--> raw_magnet:magnitude_stats:mean\n",
      "\n",
      "53 :: phone_mag ::--> raw_magnet:magnitude_stats:std\n",
      "\n",
      "54 :: phone_mag ::--> raw_magnet:magnitude_stats:moment3\n",
      "\n",
      "55 :: phone_mag ::--> raw_magnet:magnitude_stats:moment4\n",
      "\n",
      "56 :: phone_mag ::--> raw_magnet:magnitude_stats:percentile25\n",
      "\n",
      "57 :: phone_mag ::--> raw_magnet:magnitude_stats:percentile50\n",
      "\n",
      "58 :: phone_mag ::--> raw_magnet:magnitude_stats:percentile75\n",
      "\n",
      "59 :: phone_mag ::--> raw_magnet:magnitude_stats:value_entropy\n",
      "\n",
      "60 :: phone_mag ::--> raw_magnet:magnitude_stats:time_entropy\n",
      "\n",
      "61 :: phone_mag ::--> raw_magnet:magnitude_spectrum:log_energy_band0\n",
      "\n",
      "62 :: phone_mag ::--> raw_magnet:magnitude_spectrum:log_energy_band1\n",
      "\n",
      "63 :: phone_mag ::--> raw_magnet:magnitude_spectrum:log_energy_band2\n",
      "\n",
      "64 :: phone_mag ::--> raw_magnet:magnitude_spectrum:log_energy_band3\n",
      "\n",
      "65 :: phone_mag ::--> raw_magnet:magnitude_spectrum:log_energy_band4\n",
      "\n",
      "66 :: phone_mag ::--> raw_magnet:magnitude_spectrum:spectral_entropy\n",
      "\n",
      "67 :: phone_mag ::--> raw_magnet:magnitude_autocorrelation:period\n",
      "\n",
      "68 :: phone_mag ::--> raw_magnet:magnitude_autocorrelation:normalized_ac\n",
      "\n",
      "69 :: phone_mag ::--> raw_magnet:3d:mean_x\n",
      "\n",
      "70 :: phone_mag ::--> raw_magnet:3d:mean_y\n",
      "\n",
      "71 :: phone_mag ::--> raw_magnet:3d:mean_z\n",
      "\n",
      "72 :: phone_mag ::--> raw_magnet:3d:std_x\n",
      "\n",
      "73 :: phone_mag ::--> raw_magnet:3d:std_y\n",
      "\n",
      "74 :: phone_mag ::--> raw_magnet:3d:std_z\n",
      "\n",
      "75 :: phone_mag ::--> raw_magnet:3d:ro_xy\n",
      "\n",
      "76 :: phone_mag ::--> raw_magnet:3d:ro_xz\n",
      "\n",
      "77 :: phone_mag ::--> raw_magnet:3d:ro_yz\n",
      "\n",
      "78 :: phone_mag ::--> raw_magnet:avr_cosine_similarity_lag_range0\n",
      "\n",
      "79 :: phone_mag ::--> raw_magnet:avr_cosine_similarity_lag_range1\n",
      "\n",
      "80 :: phone_mag ::--> raw_magnet:avr_cosine_similarity_lag_range2\n",
      "\n",
      "81 :: phone_mag ::--> raw_magnet:avr_cosine_similarity_lag_range3\n",
      "\n",
      "82 :: phone_mag ::--> raw_magnet:avr_cosine_similarity_lag_range4\n",
      "\n",
      "83 :: watch_acc ::--> watch_acceleration:magnitude_stats:mean\n",
      "\n",
      "84 :: watch_acc ::--> watch_acceleration:magnitude_stats:std\n",
      "\n",
      "85 :: watch_acc ::--> watch_acceleration:magnitude_stats:moment3\n",
      "\n",
      "86 :: watch_acc ::--> watch_acceleration:magnitude_stats:moment4\n",
      "\n",
      "87 :: watch_acc ::--> watch_acceleration:magnitude_stats:percentile25\n",
      "\n",
      "88 :: watch_acc ::--> watch_acceleration:magnitude_stats:percentile50\n",
      "\n",
      "89 :: watch_acc ::--> watch_acceleration:magnitude_stats:percentile75\n",
      "\n",
      "90 :: watch_acc ::--> watch_acceleration:magnitude_stats:value_entropy\n",
      "\n",
      "91 :: watch_acc ::--> watch_acceleration:magnitude_stats:time_entropy\n",
      "\n",
      "92 :: watch_acc ::--> watch_acceleration:magnitude_spectrum:log_energy_band0\n",
      "\n",
      "93 :: watch_acc ::--> watch_acceleration:magnitude_spectrum:log_energy_band1\n",
      "\n",
      "94 :: watch_acc ::--> watch_acceleration:magnitude_spectrum:log_energy_band2\n",
      "\n",
      "95 :: watch_acc ::--> watch_acceleration:magnitude_spectrum:log_energy_band3\n",
      "\n",
      "96 :: watch_acc ::--> watch_acceleration:magnitude_spectrum:log_energy_band4\n",
      "\n",
      "97 :: watch_acc ::--> watch_acceleration:magnitude_spectrum:spectral_entropy\n",
      "\n",
      "98 :: watch_acc ::--> watch_acceleration:magnitude_autocorrelation:period\n",
      "\n",
      "99 :: watch_acc ::--> watch_acceleration:magnitude_autocorrelation:normalized_ac\n",
      "\n",
      "100 :: watch_acc ::--> watch_acceleration:3d:mean_x\n",
      "\n",
      "101 :: watch_acc ::--> watch_acceleration:3d:mean_y\n",
      "\n",
      "102 :: watch_acc ::--> watch_acceleration:3d:mean_z\n",
      "\n",
      "103 :: watch_acc ::--> watch_acceleration:3d:std_x\n",
      "\n",
      "104 :: watch_acc ::--> watch_acceleration:3d:std_y\n",
      "\n",
      "105 :: watch_acc ::--> watch_acceleration:3d:std_z\n",
      "\n",
      "106 :: watch_acc ::--> watch_acceleration:3d:ro_xy\n",
      "\n",
      "107 :: watch_acc ::--> watch_acceleration:3d:ro_xz\n",
      "\n",
      "108 :: watch_acc ::--> watch_acceleration:3d:ro_yz\n",
      "\n",
      "109 :: watch_acc ::--> watch_acceleration:spectrum:x_log_energy_band0\n",
      "\n",
      "110 :: watch_acc ::--> watch_acceleration:spectrum:x_log_energy_band1\n",
      "\n",
      "111 :: watch_acc ::--> watch_acceleration:spectrum:x_log_energy_band2\n",
      "\n",
      "112 :: watch_acc ::--> watch_acceleration:spectrum:x_log_energy_band3\n",
      "\n",
      "113 :: watch_acc ::--> watch_acceleration:spectrum:x_log_energy_band4\n",
      "\n",
      "114 :: watch_acc ::--> watch_acceleration:spectrum:y_log_energy_band0\n",
      "\n",
      "115 :: watch_acc ::--> watch_acceleration:spectrum:y_log_energy_band1\n",
      "\n",
      "116 :: watch_acc ::--> watch_acceleration:spectrum:y_log_energy_band2\n",
      "\n",
      "117 :: watch_acc ::--> watch_acceleration:spectrum:y_log_energy_band3\n",
      "\n",
      "118 :: watch_acc ::--> watch_acceleration:spectrum:y_log_energy_band4\n",
      "\n",
      "119 :: watch_acc ::--> watch_acceleration:spectrum:z_log_energy_band0\n",
      "\n",
      "120 :: watch_acc ::--> watch_acceleration:spectrum:z_log_energy_band1\n",
      "\n",
      "121 :: watch_acc ::--> watch_acceleration:spectrum:z_log_energy_band2\n",
      "\n",
      "122 :: watch_acc ::--> watch_acceleration:spectrum:z_log_energy_band3\n",
      "\n",
      "123 :: watch_acc ::--> watch_acceleration:spectrum:z_log_energy_band4\n",
      "\n",
      "124 :: watch_acc ::--> watch_acceleration:relative_directions:avr_cosine_similarity_lag_range0\n",
      "\n",
      "125 :: watch_acc ::--> watch_acceleration:relative_directions:avr_cosine_similarity_lag_range1\n",
      "\n",
      "126 :: watch_acc ::--> watch_acceleration:relative_directions:avr_cosine_similarity_lag_range2\n",
      "\n",
      "127 :: watch_acc ::--> watch_acceleration:relative_directions:avr_cosine_similarity_lag_range3\n",
      "\n",
      "128 :: watch_acc ::--> watch_acceleration:relative_directions:avr_cosine_similarity_lag_range4\n",
      "\n",
      "129 :: watch_dir ::--> watch_heading:mean_cos\n",
      "\n",
      "130 :: watch_dir ::--> watch_heading:std_cos\n",
      "\n",
      "131 :: watch_dir ::--> watch_heading:mom3_cos\n",
      "\n",
      "132 :: watch_dir ::--> watch_heading:mom4_cos\n",
      "\n",
      "133 :: watch_dir ::--> watch_heading:mean_sin\n",
      "\n",
      "134 :: watch_dir ::--> watch_heading:std_sin\n",
      "\n",
      "135 :: watch_dir ::--> watch_heading:mom3_sin\n",
      "\n",
      "136 :: watch_dir ::--> watch_heading:mom4_sin\n",
      "\n",
      "137 :: watch_dir ::--> watch_heading:entropy_8bins\n",
      "\n",
      "138 :: phone_loc ::--> location:num_valid_updates\n",
      "\n",
      "139 :: phone_loc ::--> location:log_latitude_range\n",
      "\n",
      "140 :: phone_loc ::--> location:log_longitude_range\n",
      "\n",
      "141 :: phone_loc ::--> location:min_altitude\n",
      "\n",
      "142 :: phone_loc ::--> location:max_altitude\n",
      "\n",
      "143 :: phone_loc ::--> location:min_speed\n",
      "\n",
      "144 :: phone_loc ::--> location:max_speed\n",
      "\n",
      "145 :: phone_loc ::--> location:best_horizontal_accuracy\n",
      "\n",
      "146 :: phone_loc ::--> location:best_vertical_accuracy\n",
      "\n",
      "147 :: phone_loc ::--> location:diameter\n",
      "\n",
      "148 :: phone_loc ::--> location:log_diameter\n",
      "\n",
      "149 :: phone_loc ::--> location_quick_features:std_lat\n",
      "\n",
      "150 :: phone_loc ::--> location_quick_features:std_long\n",
      "\n",
      "151 :: phone_loc ::--> location_quick_features:lat_change\n",
      "\n",
      "152 :: phone_loc ::--> location_quick_features:long_change\n",
      "\n",
      "153 :: phone_loc ::--> location_quick_features:mean_abs_lat_deriv\n",
      "\n",
      "154 :: phone_loc ::--> location_quick_features:mean_abs_long_deriv\n",
      "\n",
      "155 :: phone_audio ::--> audio_naive:mfcc0:mean\n",
      "\n",
      "156 :: phone_audio ::--> audio_naive:mfcc1:mean\n",
      "\n",
      "157 :: phone_audio ::--> audio_naive:mfcc2:mean\n",
      "\n",
      "158 :: phone_audio ::--> audio_naive:mfcc3:mean\n",
      "\n",
      "159 :: phone_audio ::--> audio_naive:mfcc4:mean\n",
      "\n",
      "160 :: phone_audio ::--> audio_naive:mfcc5:mean\n",
      "\n",
      "161 :: phone_audio ::--> audio_naive:mfcc6:mean\n",
      "\n",
      "162 :: phone_audio ::--> audio_naive:mfcc7:mean\n",
      "\n",
      "163 :: phone_audio ::--> audio_naive:mfcc8:mean\n",
      "\n",
      "164 :: phone_audio ::--> audio_naive:mfcc9:mean\n",
      "\n",
      "165 :: phone_audio ::--> audio_naive:mfcc10:mean\n",
      "\n",
      "166 :: phone_audio ::--> audio_naive:mfcc11:mean\n",
      "\n",
      "167 :: phone_audio ::--> audio_naive:mfcc12:mean\n",
      "\n",
      "168 :: phone_audio ::--> audio_naive:mfcc0:std\n",
      "\n",
      "169 :: phone_audio ::--> audio_naive:mfcc1:std\n",
      "\n",
      "170 :: phone_audio ::--> audio_naive:mfcc2:std\n",
      "\n",
      "171 :: phone_audio ::--> audio_naive:mfcc3:std\n",
      "\n",
      "172 :: phone_audio ::--> audio_naive:mfcc4:std\n",
      "\n",
      "173 :: phone_audio ::--> audio_naive:mfcc5:std\n",
      "\n",
      "174 :: phone_audio ::--> audio_naive:mfcc6:std\n",
      "\n",
      "175 :: phone_audio ::--> audio_naive:mfcc7:std\n",
      "\n",
      "176 :: phone_audio ::--> audio_naive:mfcc8:std\n",
      "\n",
      "177 :: phone_audio ::--> audio_naive:mfcc9:std\n",
      "\n",
      "178 :: phone_audio ::--> audio_naive:mfcc10:std\n",
      "\n",
      "179 :: phone_audio ::--> audio_naive:mfcc11:std\n",
      "\n",
      "180 :: phone_audio ::--> audio_naive:mfcc12:std\n",
      "\n",
      "181 ::  ::--> audio_properties:max_abs_value\n",
      "\n",
      "182 ::  ::--> audio_properties:normalization_multiplier\n",
      "\n",
      "183 :: phone_app ::--> discrete:app_state:is_active\n",
      "\n",
      "184 :: phone_app ::--> discrete:app_state:is_inactive\n",
      "\n",
      "185 :: phone_app ::--> discrete:app_state:is_background\n",
      "\n",
      "186 :: phone_app ::--> discrete:app_state:missing\n",
      "\n",
      "187 :: phone_battery ::--> discrete:battery_plugged:is_ac\n",
      "\n",
      "188 :: phone_battery ::--> discrete:battery_plugged:is_usb\n",
      "\n",
      "189 :: phone_battery ::--> discrete:battery_plugged:is_wireless\n",
      "\n",
      "190 :: phone_battery ::--> discrete:battery_plugged:missing\n",
      "\n",
      "191 :: phone_battery ::--> discrete:battery_state:is_unknown\n",
      "\n",
      "192 :: phone_battery ::--> discrete:battery_state:is_unplugged\n",
      "\n",
      "193 :: phone_battery ::--> discrete:battery_state:is_not_charging\n",
      "\n",
      "194 :: phone_battery ::--> discrete:battery_state:is_discharging\n",
      "\n",
      "195 :: phone_battery ::--> discrete:battery_state:is_charging\n",
      "\n",
      "196 :: phone_battery ::--> discrete:battery_state:is_full\n",
      "\n",
      "197 :: phone_battery ::--> discrete:battery_state:missing\n",
      "\n",
      "198 :: phone_use ::--> discrete:on_the_phone:is_False\n",
      "\n",
      "199 :: phone_use ::--> discrete:on_the_phone:is_True\n",
      "\n",
      "200 :: phone_use ::--> discrete:on_the_phone:missing\n",
      "\n",
      "201 :: phone_callstat ::--> discrete:ringer_mode:is_normal\n",
      "\n",
      "202 :: phone_callstat ::--> discrete:ringer_mode:is_silent_no_vibrate\n",
      "\n",
      "203 :: phone_callstat ::--> discrete:ringer_mode:is_silent_with_vibrate\n",
      "\n",
      "204 :: phone_callstat ::--> discrete:ringer_mode:missing\n",
      "\n",
      "205 :: phone_wifi ::--> discrete:wifi_status:is_not_reachable\n",
      "\n",
      "206 :: phone_wifi ::--> discrete:wifi_status:is_reachable_via_wifi\n",
      "\n",
      "207 :: phone_wifi ::--> discrete:wifi_status:is_reachable_via_wwan\n",
      "\n",
      "208 :: phone_wifi ::--> discrete:wifi_status:missing\n",
      "\n",
      "209 :: phone_lf ::--> lf_measurements:light\n",
      "\n",
      "210 :: phone_lf ::--> lf_measurements:pressure\n",
      "\n",
      "211 :: phone_lf ::--> lf_measurements:proximity_cm\n",
      "\n",
      "212 :: phone_lf ::--> lf_measurements:proximity\n",
      "\n",
      "213 :: phone_lf ::--> lf_measurements:relative_humidity\n",
      "\n",
      "214 :: phone_lf ::--> lf_measurements:battery_level\n",
      "\n",
      "215 :: phone_lf ::--> lf_measurements:screen_brightness\n",
      "\n",
      "216 :: phone_lf ::--> lf_measurements:temperature_ambient\n",
      "\n",
      "217 :: phone_time ::--> discrete:time_of_day:between0and6\n",
      "\n",
      "218 :: phone_time ::--> discrete:time_of_day:between3and9\n",
      "\n",
      "219 :: phone_time ::--> discrete:time_of_day:between6and12\n",
      "\n",
      "220 :: phone_time ::--> discrete:time_of_day:between9and15\n",
      "\n",
      "221 :: phone_time ::--> discrete:time_of_day:between12and18\n",
      "\n",
      "222 :: phone_time ::--> discrete:time_of_day:between15and21\n",
      "\n",
      "223 :: phone_time ::--> discrete:time_of_day:between18and24\n",
      "\n",
      "224 :: phone_time ::--> discrete:time_of_day:between21and3\n",
      "\n",
      "Activities and counts:\n",
      "[('LOC_home', 3040), ('OR_indoors', 2487), ('PHONE_ON_TABLE', 2179), ('SITTING', 1916), ('WITH_FRIENDS', 1730), ('LYING_DOWN', 1336), ('SLEEPING', 1021), ('WATCHING_TV', 912), ('EATING', 762), ('PHONE_IN_POCKET', 706), ('TALKING', 638), ('DRIVE_-_I_M_A_PASSENGER', 409), ('OR_standing', 384), ('IN_A_CAR', 342), ('OR_exercise', 162), ('AT_THE_GYM', 162), ('SINGING', 136), ('FIX_walking', 132), ('OR_outside', 127), ('SHOPPING', 111), ('AT_SCHOOL', 105), ('BATHING_-_SHOWER', 85), ('DRESSING', 67), ('DRINKING__ALCOHOL_', 66), ('PHONE_IN_HAND', 64), ('FIX_restaurant', 59), ('IN_CLASS', 54), ('PHONE_IN_BAG', 33), ('IN_A_MEETING', 27), ('TOILET', 12), ('COOKING', 5), ('ELEVATOR', 1), ('FIX_running', 0), ('BICYCLING', 0), ('LAB_WORK', 0), ('LOC_main_workplace', 0), ('ON_A_BUS', 0), ('DRIVE_-_I_M_THE_DRIVER', 0), ('STROLLING', 0), ('CLEANING', 0), ('DOING_LAUNDRY', 0), ('WASHING_DISHES', 0), ('SURFING_THE_INTERNET', 0), ('AT_A_PARTY', 0), ('AT_A_BAR', 0), ('LOC_beach', 0), ('COMPUTER_WORK', 0), ('GROOMING', 0), ('STAIRS_-_GOING_UP', 0), ('STAIRS_-_GOING_DOWN', 0), ('WITH_CO-WORKERS', 0)]\n"
     ]
    }
   ],
   "source": [
    "# Dataset summaries for this user\n",
    "print('Data shape input for user (Len minutes/num examples, num sensors): ',x_user.shape) # Timestep examples, number of sensors\n",
    "print('Label shape for user (Len minutes, num labels): ',y_user.shape,'\\n') # Timestep examples, labels\n",
    "\n",
    "countlabels_user=np.sum(y_user,axis=0) # Column summary\n",
    "labelname_countlabel_user=zip(labelname_user,countlabels_user) # Zip together names, counts\n",
    "labelname_countlabel_user=sorted(labelname_countlabel_user,key=lambda row:row[-1],reverse=True)\n",
    "\n",
    "print('Sensor feature names:\\n')\n",
    "feature_names=summarize_features(featurename_user)\n",
    "\n",
    "for i,sensor_feature in enumerate(featurename_user):\n",
    "    print('{} :: {} ::--> {}\\n'.format(i,feature_names[i],sensor_feature))\n",
    "\n",
    "print('Activities and counts:')\n",
    "print(labelname_countlabel_user)"
   ]
  },
  {
   "cell_type": "markdown",
   "metadata": {},
   "source": [
    "# Training"
   ]
  },
  {
   "cell_type": "code",
   "execution_count": 8,
   "metadata": {
    "code_folding": [
     0
    ]
   },
   "outputs": [],
   "source": [
    "# Choosing sensor labels\n",
    "'''\n",
    "Summary sensor choices are: phone_acc,phone_gyro,phone_mag,watch_acc,watch_dir,phone_loc,phone_audio,\n",
    "phone_app,phone_battery,phone_use,phone_callstat,phone_wifi,phone_lf,phone_time\n",
    "In this project, we aren't using watch_acc,watch_dir (no smartwatch)\n",
    "'''\n",
    "\n",
    "def choose_sensors(X_train,used_sensors,summarized_feature_names):\n",
    "    used_sensor_feature_names=np.zeros(len(summarized_feature_names),dtype=bool)\n",
    "    # Creates a zero boolean vector of all possible feature names\n",
    "    for s in used_sensors:\n",
    "        used_sensor_feature_names=np.logical_or(used_sensor_feature_names,(s==summarized_feature_names))\n",
    "    X_train=X_train[:,used_sensor_feature_names]\n",
    "    return X_train"
   ]
  },
  {
   "cell_type": "code",
   "execution_count": 9,
   "metadata": {
    "code_folding": [
     0
    ]
   },
   "outputs": [],
   "source": [
    "# Returns a standardized (0 mean, 1 variance) dataset\n",
    "def standardize(X_train):\n",
    "    mean=np.nanmean(X_train,axis=0).reshape((1,-1))# Ignores NaNs while finding the mean across rows\n",
    "    standard_dev=np.nanstd(X_train,axis=0) # Ignores NaNs while finding the standard deviation across rows\n",
    "    standard_dev_nonzero=np.where(standard_dev>0,standard_dev,1.).reshape((1,-1)) # Div zero\n",
    "    \n",
    "    X=(X_train-mean)/standard_dev_nonzero\n",
    "    return X,mean,standard_dev_nonzero   "
   ]
  },
  {
   "cell_type": "markdown",
   "metadata": {},
   "source": [
    "## Importing data (no cross-validation)"
   ]
  },
  {
   "cell_type": "code",
   "execution_count": 10,
   "metadata": {
    "code_folding": [
     0
    ],
    "scrolled": true
   },
   "outputs": [
    {
     "name": "stdout",
     "output_type": "stream",
     "text": [
      "Reading 3600D531-0C55-44A7-AE95-A7A38519464E.features_labels.csv.gz\n",
      "Reading 8023FE1A-D3B0-4E2C-A57A-9321B7FC755F.features_labels.csv.gz\n",
      "Reading 86A4F379-B305-473D-9D83-FC7D800180EF.features_labels.csv.gz\n",
      "Reading 1538C99F-BA1E-4EFB-A949-6C7C47701B20.features_labels.csv.gz\n",
      "Reading 11B5EC4D-4133-4289-B475-4E737182A406.features_labels.csv.gz\n",
      "Reading 74B86067-5D4B-43CF-82CF-341B76BEA0F4.features_labels.csv.gz\n",
      "Reading 4FC32141-E888-4BFF-8804-12559A491D8C.features_labels.csv.gz\n",
      "Reading B9724848-C7E2-45F4-9B3F-A1F38D864495.features_labels.csv.gz\n",
      "Reading A76A5AF5-5A93-4CF2-A16E-62353BB70E8A.features_labels.csv.gz\n",
      "Reading 96A358A0-FFF2-4239-B93E-C7425B901B47.features_labels.csv.gz\n",
      "Reading 665514DE-49DC-421F-8DCB-145D0B2609AD.features_labels.csv.gz\n",
      "Reading BE3CA5A6-A561-4BBD-B7C9-5DF6805400FC.features_labels.csv.gz\n",
      "Reading A5A30F76-581E-4757-97A2-957553A2C6AA.features_labels.csv.gz\n",
      "Reading 27E04243-B138-4F40-A164-F40B60165CF3.features_labels.csv.gz\n",
      "Reading 0E6184E1-90C0-48EE-B25A-F1ECB7B9714E.features_labels.csv.gz\n",
      "Reading FDAA70A1-42A3-4E3F-9AE3-3FDA412E03BF.features_labels.csv.gz\n",
      "Reading BEF6C611-50DA-4971-A040-87FB979F3FC1.features_labels.csv.gz\n",
      "Reading 098A72A5-E3E5-4F54-A152-BBDA0DF7B694.features_labels.csv.gz\n",
      "Reading 78A91A4E-4A51-4065-BDA7-94755F0BB3BB.features_labels.csv.gz\n",
      "Reading B7F9D634-263E-4A97-87F9-6FFB4DDCB36C.features_labels.csv.gz\n",
      "Reading 9DC38D04-E82E-4F29-AB52-B476535226F2.features_labels.csv.gz\n",
      "Reading 81536B0A-8DBF-4D8A-AC24-9543E2E4C8E0.features_labels.csv.gz\n",
      "Reading 5EF64122-B513-46AE-BCF1-E62AAC285D2C.features_labels.csv.gz\n",
      "Reading C48CE857-A0DD-4DDB-BEA5-3A25449B2153.features_labels.csv.gz\n",
      "Reading CDA3BBF7-6631-45E8-85BA-EEB416B32A3C.features_labels.csv.gz\n",
      "Reading 61976C24-1C50-4355-9C49-AAE44A7D09F6.features_labels.csv.gz\n",
      "Reading 59EEFAE0-DEB0-4FFF-9250-54D2A03D0CF2.features_labels.csv.gz\n",
      "Reading 33A85C34-CFE4-4732-9E73-0A7AC861B27A.features_labels.csv.gz\n",
      "Reading 61359772-D8D8-480D-B623-7C636EAD0C81.features_labels.csv.gz\n",
      "Reading A7599A50-24AE-46A6-8EA6-2576F1011D81.features_labels.csv.gz\n",
      "Reading 806289BC-AD52-4CC1-806C-0CDB14D65EB6.features_labels.csv.gz\n",
      "Reading 0BFC35E2-4817-4865-BFA7-764742302A2D.features_labels.csv.gz\n",
      "Reading F50235E0-DD67-4F2A-B00B-1F31ADA998B9.features_labels.csv.gz\n",
      "Reading 1155FF54-63D3-4AB2-9863-8385D0BD0A13.features_labels.csv.gz\n",
      "Reading 9759096F-1119-4E19-A0AD-6F16989C7E1C.features_labels.csv.gz\n",
      "Reading 5152A2DF-FAF3-4BA8-9CA9-E66B32671A53.features_labels.csv.gz\n",
      "Reading 7CE37510-56D0-4120-A1CF-0E23351428D2.features_labels.csv.gz\n",
      "Reading 59818CD2-24D7-4D32-B133-24C2FE3801E5.features_labels.csv.gz\n",
      "Reading CA820D43-E5E2-42EF-9798-BE56F776370B.features_labels.csv.gz\n",
      "Reading 00EABED2-271D-49D8-B599-1D4A09240601.features_labels.csv.gz\n",
      "Reading 40E170A7-607B-4578-AF04-F021C3B0384A.features_labels.csv.gz\n",
      "Reading 797D145F-3858-4A7F-A7C2-A4EB721E133C.features_labels.csv.gz\n",
      "Reading ECECC2AB-D32F-4F90-B74C-E12A1C69BBE2.features_labels.csv.gz\n",
      "Reading 2C32C23E-E30C-498A-8DD2-0EFB9150A02E.features_labels.csv.gz\n",
      "Reading CCAF77F0-FABB-4F2F-9E24-D56AD0C5A82F.features_labels.csv.gz\n",
      "Reading 5119D0F8-FCA8-4184-A4EB-19421A40DE0D.features_labels.csv.gz\n",
      "Reading D7D20E2E-FC78-405D-B346-DBD3FD8FC92B.features_labels.csv.gz\n",
      "Reading B09E373F-8A54-44C8-895B-0039390B859F.features_labels.csv.gz\n",
      "Reading 136562B6-95B2-483D-88DC-065F28409FD2.features_labels.csv.gz\n",
      "Reading 99B204C0-DD5C-4BB7-83E8-A37281B8D769.features_labels.csv.gz\n",
      "Reading 83CF687B-7CEC-434B-9FE8-00C3D5799BE6.features_labels.csv.gz\n",
      "Reading E65577C1-8D5D-4F70-AF23-B3ADB9D3DBA3.features_labels.csv.gz\n",
      "Reading 0A986513-7828-4D53-AA1F-E02D6DF9561B.features_labels.csv.gz\n",
      "Reading A5CDF89D-02A2-4EC1-89F8-F534FDABDD96.features_labels.csv.gz\n",
      "Reading 7D9BB102-A612-4E2A-8E22-3159752F55D8.features_labels.csv.gz\n",
      "Reading 24E40C4C-A349-4F9F-93AB-01D00FB994AF.features_labels.csv.gz\n",
      "Reading 1DBB0F6F-1F81-4A50-9DF4-CD62ACFA4842.features_labels.csv.gz\n",
      "Reading 481F4DD2-7689-43B9-A2AA-C8772227162B.features_labels.csv.gz\n",
      "Reading CF722AA9-2533-4E51-9FEB-9EAC84EE9AAC.features_labels.csv.gz\n",
      "Reading 4E98F91F-4654-42EF-B908-A3389443F2E7.features_labels.csv.gz\n",
      "\n",
      "Training: X::(301853, 225) ,Y::(301853, 51)\n",
      "Testing: X::(75493, 225) ,Y::(75493, 51)\n"
     ]
    }
   ],
   "source": [
    "# Reading data in the directory (Stacked)\n",
    "X_train=np.empty((0,225))\n",
    "Y_train=np.empty((0,51))\n",
    "X_test=np.empty((0,225))\n",
    "Y_test=np.empty((0,51))\n",
    "M_train=np.empty((0,51))\n",
    "M_test=np.empty((0,51))\n",
    "\n",
    "for u_file in glob.glob('{}/*.csv.gz'.format(prefix)):\n",
    "        x_user,y_user,missed_label_user,tstamp_user,featurename_user,labelname_user=read_user_data(u_file)\n",
    "        # Split each user data into train-test splits .80-.20\n",
    "        x_train_u,x_test_u,y_train_u,y_test_u=TT_split(x_user,y_user,test_size=0.20,random_state=random_state)\n",
    "        m_train,m_test=TT_split(missed_label_user,test_size=0.20,random_state=random_state)\n",
    "        \n",
    "        # Stacking data. Will be changed for K-Fold cross-validation\n",
    "        X_train=np.vstack((X_train,x_train_u))\n",
    "        Y_train=np.vstack((Y_train,y_train_u))\n",
    "        X_test=np.vstack((X_test,x_test_u))\n",
    "        Y_test=np.vstack((Y_test,y_test_u))\n",
    "    \n",
    "        # Missing data matrix\n",
    "        M_train=np.vstack((M_train,m_train))\n",
    "        M_test=np.vstack((M_test,m_test))\n",
    "        \n",
    "assert len(X_train)==len(Y_train)\n",
    "assert len(X_test)==len(Y_test)\n",
    "\n",
    "print('\\nTraining: X::{} ,Y::{}'.format(X_train.shape,Y_train.shape))\n",
    "print('Testing: X::{} ,Y::{}'.format(X_test.shape,Y_test.shape))"
   ]
  },
  {
   "cell_type": "markdown",
   "metadata": {},
   "source": [
    "# Single Class Classifier: Training"
   ]
  },
  {
   "cell_type": "code",
   "execution_count": 11,
   "metadata": {
    "code_folding": [
     0
    ]
   },
   "outputs": [],
   "source": [
    "# Train model function repeat for every training label\n",
    "def scc_train(X_train,Y_train,M,all_sensornames,all_labelnames,used_sensors,Y_target,clf,clf_type):\n",
    "    out_model={}\n",
    "    X_train=choose_sensors(X_train,used_sensors,all_sensornames)\n",
    "    print('Current X_train shape is {}'.format(X_train.shape))\n",
    "    print('Using sensors {}'.format(used_sensors))\n",
    "    \n",
    "    X_train,mean,standard_dev_nonzero=standardize(X_train) # Standardizing X_train to have zero mean and unit variance\n",
    "    index_label=all_labelnames.index(Y_target)\n",
    "    y_train=Y_train[:,index_label] # Choosing a column of data for training consisting of only one target label\n",
    "    \n",
    "    any_missingdata_label=M[:,index_label] # Check if there's data missing for that label\n",
    "    any_presentdata_features=np.logical_not(any_missingdata_label) # Present data indices boolean\n",
    "    \n",
    "    x_train=X_train[any_presentdata_features,:] # Training dataset consists of data that's available ignoring all missing rows\n",
    "    x_train[np.isnan(x_train)]=0 # Zero imputation of NaN values\n",
    "    y_train=y_train[any_presentdata_features] # Training labels consists of data that's available\n",
    "    print('Current X_train shape after removing missing data & zero-impute is {}'.format(x_train.shape))\n",
    "    \n",
    "    # Fitting classifier\n",
    "    clf.fit(x_train,y_train)\n",
    "    \n",
    "    out_model['train_mean']=mean\n",
    "    out_model['train_std_dev_nonzero']=standard_dev_nonzero\n",
    "    out_model['classifier']=clf\n",
    "    \n",
    "    filename='scc_model_{}_label_{}.sav'.format(clf_type,Y_target)\n",
    "    pickle.dump(clf,open(filename, 'wb'))\n",
    "    \n",
    "    return out_model"
   ]
  },
  {
   "cell_type": "code",
   "execution_count": 13,
   "metadata": {
    "code_folding": [
     0
    ]
   },
   "outputs": [],
   "source": [
    "# Test model function repeat for every training label\n",
    "def scc_test(X_test,Y_test,M,all_sensornames,all_labelnames,used_sensors,Y_target,trained_model):\n",
    "   \n",
    "    X_test=choose_sensors(X_test,used_sensors,all_sensornames)\n",
    "    print('Current X_test shape is {}'.format(X_test.shape))\n",
    "    # Normalizing test set the same way training set was normalized\n",
    "    X=(X_test-trained_model['train_mean'])/trained_model['train_std_dev_nonzero']\n",
    "       \n",
    "    index_label=all_labelnames.index(Y_target)\n",
    "    y_test=Y_test[:,index_label] # Choosing a column of data for training consisting of only one target label\n",
    "    \n",
    "    any_missingdata_label=M[:,index_label] # Check if there's data missing for that label\n",
    "    any_presentdata_features=np.logical_not(any_missingdata_label) # Present data indices boolean\n",
    "    \n",
    "    x_test=X[any_presentdata_features,:] # Training dataset consists of data that's available ignoring all missing rows\n",
    "    x_test[np.isnan(x_test)]=0 # Zero imputation of NaN values\n",
    "    y_test=y_test[any_presentdata_features] # Training labels consists of data that's available\n",
    "    \n",
    "    y_test_predicted=trained_model['classifier'].predict(x_test) # Prediction\n",
    "    \n",
    "    tn,fp,fn,tp=confusion_matrix(y_test,y_test_predicted).ravel()\n",
    "    bal_accuracy=balanced_accuracy_score(y_test,y_test_predicted)\n",
    "    return tn,fp,fn,tp,bal_accuracy"
   ]
  },
  {
   "cell_type": "code",
   "execution_count": 18,
   "metadata": {
    "code_folding": []
   },
   "outputs": [],
   "source": [
    "# Sensor Types, Label Possibilities variables\n",
    "sensor_types=['phone_acc','phone_gyro','phone_mag','phone_loc','phone_audio',\n",
    "'phone_app','phone_battery','phone_use','phone_callstat','phone_wifi','phone_lf','phone_time']\n",
    "label_possibilities=['LOC_home','OR_indoors','PHONE_ON_TABLE','SITTING',\n",
    "                     'WITH_FRIENDS','LYING_DOWN','SLEEPING','WATCHING_TV',\n",
    "                     'EATING','PHONE_IN_POCKET','TALKING','DRIVE_-_I_M_A_PASSENGER',\n",
    "                     'OR_standing','IN_A_CAR','OR_exercise','AT_THE_GYM','FIX_walking',\n",
    "                     'OR_outside','BATHING_-_SHOWER','DRESSING','DRINKING__ALCOHOL_',\n",
    "                     'PHONE_IN_HAND','FIX_restaurant','IN_CLASS','PHONE_IN_BAG','IN_A_MEETING',\n",
    "                     'TOILET','COOKING','FIX_running','BICYCLING','LOC_main_workplace',\n",
    "                     'ON_A_BUS','DRIVE_-_I_M_THE_DRIVER','STROLLING','CLEANING','DOING_LAUNDRY',\n",
    "                     'WASHING_DISHES','SURFING_THE_INTERNET','AT_A_PARTY',\n",
    "                     'COMPUTER_WORK','GROOMING','STAIRS_-_GOING_UP','STAIRS_-_GOING_DOWN',\n",
    "                     'WITH_CO-WORKERS']"
   ]
  },
  {
   "cell_type": "markdown",
   "metadata": {},
   "source": [
    "## Model Choices"
   ]
  },
  {
   "cell_type": "code",
   "execution_count": 20,
   "metadata": {
    "code_folding": []
   },
   "outputs": [],
   "source": [
    "# Models\n",
    "clf1=LogisticRegression(n_jobs=-1,warm_start=True,class_weight='balanced') # Account for class imbalance\n",
    "clf2=SVC()\n",
    "clf3=RandomForestClassifier(n_jobs=-1,warm_start=True)\n",
    "clf4=MLPClassifier(hidden_layer_sizes=(100, ),activation='relu',\n",
    "                   solver='sgd',batch_size=300,learning_rate='invscaling',\n",
    "                   learning_rate_init=0.01,power_t=0.5,max_iter=50,random_state=random_state,\n",
    "                   verbose=True,warm_start=True,early_stopping=True, validation_fraction=0.0,\n",
    "                   epsilon=1e-08, n_iter_no_change=10)"
   ]
  },
  {
   "cell_type": "markdown",
   "metadata": {},
   "source": [
    "## Logistic Regression"
   ]
  },
  {
   "cell_type": "code",
   "execution_count": 16,
   "metadata": {
    "code_folding": [],
    "scrolled": false
   },
   "outputs": [
    {
     "name": "stdout",
     "output_type": "stream",
     "text": [
      "Current X_train shape is (301853, 168)\n",
      "Using sensors ['phone_acc', 'phone_gyro', 'phone_mag', 'phone_loc', 'phone_audio', 'phone_app', 'phone_battery', 'phone_use', 'phone_callstat', 'phone_wifi', 'phone_lf', 'phone_time']\n",
      "Current X_train shape after removing missing data & zero-impute is (284244, 168)\n"
     ]
    },
    {
     "name": "stderr",
     "output_type": "stream",
     "text": [
      "/home/nsrishankar/Desktop/Self_study/custom_dl_env/lib/python3.6/site-packages/sklearn/linear_model/logistic.py:433: FutureWarning: Default solver will be changed to 'lbfgs' in 0.22. Specify a solver to silence this warning.\n",
      "  FutureWarning)\n",
      "/home/nsrishankar/Desktop/Self_study/custom_dl_env/lib/python3.6/site-packages/sklearn/linear_model/logistic.py:1300: UserWarning: 'n_jobs' > 1 does not have any effect when 'solver' is set to 'liblinear'. Got 'n_jobs' = 12.\n",
      "  \" = {}.\".format(effective_n_jobs(self.n_jobs)))\n"
     ]
    },
    {
     "name": "stdout",
     "output_type": "stream",
     "text": [
      "Current X_test shape is (75493, 168)\n",
      "**************************************************\n",
      "Predicting LOC_home label\n",
      "TP:31888, FP:8866, FN:5825, TP:24511, Balanced Accuracy:0.7952173579386683\n",
      "\n",
      "Current X_train shape is (301853, 168)\n",
      "Using sensors ['phone_acc', 'phone_gyro', 'phone_mag', 'phone_loc', 'phone_audio', 'phone_app', 'phone_battery', 'phone_use', 'phone_callstat', 'phone_wifi', 'phone_lf', 'phone_time']\n",
      "Current X_train shape after removing missing data & zero-impute is (157494, 168)\n"
     ]
    },
    {
     "name": "stderr",
     "output_type": "stream",
     "text": [
      "/home/nsrishankar/Desktop/Self_study/custom_dl_env/lib/python3.6/site-packages/sklearn/linear_model/logistic.py:433: FutureWarning: Default solver will be changed to 'lbfgs' in 0.22. Specify a solver to silence this warning.\n",
      "  FutureWarning)\n",
      "/home/nsrishankar/Desktop/Self_study/custom_dl_env/lib/python3.6/site-packages/sklearn/linear_model/logistic.py:1300: UserWarning: 'n_jobs' > 1 does not have any effect when 'solver' is set to 'liblinear'. Got 'n_jobs' = 12.\n",
      "  \" = {}.\".format(effective_n_jobs(self.n_jobs)))\n"
     ]
    },
    {
     "name": "stdout",
     "output_type": "stream",
     "text": [
      "Current X_test shape is (75493, 168)\n",
      "**************************************************\n",
      "Predicting OR_indoors label\n",
      "TP:2184, FP:228, FN:3643, TP:33257, Balanced Accuracy:0.9033731747765239\n",
      "\n",
      "Current X_train shape is (301853, 168)\n",
      "Using sensors ['phone_acc', 'phone_gyro', 'phone_mag', 'phone_loc', 'phone_audio', 'phone_app', 'phone_battery', 'phone_use', 'phone_callstat', 'phone_wifi', 'phone_lf', 'phone_time']\n",
      "Current X_train shape after removing missing data & zero-impute is (129977, 168)\n"
     ]
    },
    {
     "name": "stderr",
     "output_type": "stream",
     "text": [
      "/home/nsrishankar/Desktop/Self_study/custom_dl_env/lib/python3.6/site-packages/sklearn/linear_model/logistic.py:433: FutureWarning: Default solver will be changed to 'lbfgs' in 0.22. Specify a solver to silence this warning.\n",
      "  FutureWarning)\n",
      "/home/nsrishankar/Desktop/Self_study/custom_dl_env/lib/python3.6/site-packages/sklearn/linear_model/logistic.py:1300: UserWarning: 'n_jobs' > 1 does not have any effect when 'solver' is set to 'liblinear'. Got 'n_jobs' = 12.\n",
      "  \" = {}.\".format(effective_n_jobs(self.n_jobs)))\n"
     ]
    },
    {
     "name": "stdout",
     "output_type": "stream",
     "text": [
      "Current X_test shape is (75493, 168)\n",
      "**************************************************\n",
      "Predicting PHONE_ON_TABLE label\n",
      "TP:7849, FP:1646, FN:3546, TP:19405, Balanced Accuracy:0.8360712655936707\n",
      "\n",
      "Current X_train shape is (301853, 168)\n",
      "Using sensors ['phone_acc', 'phone_gyro', 'phone_mag', 'phone_loc', 'phone_audio', 'phone_app', 'phone_battery', 'phone_use', 'phone_callstat', 'phone_wifi', 'phone_lf', 'phone_time']\n",
      "Current X_train shape after removing missing data & zero-impute is (245191, 168)\n"
     ]
    },
    {
     "name": "stderr",
     "output_type": "stream",
     "text": [
      "/home/nsrishankar/Desktop/Self_study/custom_dl_env/lib/python3.6/site-packages/sklearn/linear_model/logistic.py:433: FutureWarning: Default solver will be changed to 'lbfgs' in 0.22. Specify a solver to silence this warning.\n",
      "  FutureWarning)\n",
      "/home/nsrishankar/Desktop/Self_study/custom_dl_env/lib/python3.6/site-packages/sklearn/linear_model/logistic.py:1300: UserWarning: 'n_jobs' > 1 does not have any effect when 'solver' is set to 'liblinear'. Got 'n_jobs' = 12.\n",
      "  \" = {}.\".format(effective_n_jobs(self.n_jobs)))\n"
     ]
    },
    {
     "name": "stdout",
     "output_type": "stream",
     "text": [
      "Current X_test shape is (75493, 168)\n",
      "**************************************************\n",
      "Predicting SITTING label\n",
      "TP:24937, FP:9129, FN:4440, TP:22897, Balanced Accuracy:0.7848014796888974\n",
      "\n",
      "Current X_train shape is (301853, 168)\n",
      "Using sensors ['phone_acc', 'phone_gyro', 'phone_mag', 'phone_loc', 'phone_audio', 'phone_app', 'phone_battery', 'phone_use', 'phone_callstat', 'phone_wifi', 'phone_lf', 'phone_time']\n",
      "Current X_train shape after removing missing data & zero-impute is (132325, 168)\n"
     ]
    },
    {
     "name": "stderr",
     "output_type": "stream",
     "text": [
      "/home/nsrishankar/Desktop/Self_study/custom_dl_env/lib/python3.6/site-packages/sklearn/linear_model/logistic.py:433: FutureWarning: Default solver will be changed to 'lbfgs' in 0.22. Specify a solver to silence this warning.\n",
      "  FutureWarning)\n",
      "/home/nsrishankar/Desktop/Self_study/custom_dl_env/lib/python3.6/site-packages/sklearn/linear_model/logistic.py:1300: UserWarning: 'n_jobs' > 1 does not have any effect when 'solver' is set to 'liblinear'. Got 'n_jobs' = 12.\n",
      "  \" = {}.\".format(effective_n_jobs(self.n_jobs)))\n"
     ]
    },
    {
     "name": "stdout",
     "output_type": "stream",
     "text": [
      "Current X_test shape is (75493, 168)\n",
      "**************************************************\n",
      "Predicting WITH_FRIENDS label\n",
      "TP:21502, FP:6577, FN:1009, TP:4001, Balanced Accuracy:0.7821854030462527\n",
      "\n",
      "Current X_train shape is (301853, 168)\n",
      "Using sensors ['phone_acc', 'phone_gyro', 'phone_mag', 'phone_loc', 'phone_audio', 'phone_app', 'phone_battery', 'phone_use', 'phone_callstat', 'phone_wifi', 'phone_lf', 'phone_time']\n",
      "Current X_train shape after removing missing data & zero-impute is (242882, 168)\n"
     ]
    },
    {
     "name": "stderr",
     "output_type": "stream",
     "text": [
      "/home/nsrishankar/Desktop/Self_study/custom_dl_env/lib/python3.6/site-packages/sklearn/linear_model/logistic.py:433: FutureWarning: Default solver will be changed to 'lbfgs' in 0.22. Specify a solver to silence this warning.\n",
      "  FutureWarning)\n",
      "/home/nsrishankar/Desktop/Self_study/custom_dl_env/lib/python3.6/site-packages/sklearn/linear_model/logistic.py:1300: UserWarning: 'n_jobs' > 1 does not have any effect when 'solver' is set to 'liblinear'. Got 'n_jobs' = 12.\n",
      "  \" = {}.\".format(effective_n_jobs(self.n_jobs)))\n"
     ]
    },
    {
     "name": "stdout",
     "output_type": "stream",
     "text": [
      "Current X_test shape is (75493, 168)\n",
      "**************************************************\n",
      "Predicting LYING_DOWN label\n",
      "TP:36013, FP:3994, FN:2658, TP:18176, Balanced Accuracy:0.8862937766249934\n",
      "\n",
      "Current X_train shape is (301853, 168)\n",
      "Using sensors ['phone_acc', 'phone_gyro', 'phone_mag', 'phone_loc', 'phone_audio', 'phone_app', 'phone_battery', 'phone_use', 'phone_callstat', 'phone_wifi', 'phone_lf', 'phone_time']\n",
      "Current X_train shape after removing missing data & zero-impute is (228150, 168)\n"
     ]
    },
    {
     "name": "stderr",
     "output_type": "stream",
     "text": [
      "/home/nsrishankar/Desktop/Self_study/custom_dl_env/lib/python3.6/site-packages/sklearn/linear_model/logistic.py:433: FutureWarning: Default solver will be changed to 'lbfgs' in 0.22. Specify a solver to silence this warning.\n",
      "  FutureWarning)\n",
      "/home/nsrishankar/Desktop/Self_study/custom_dl_env/lib/python3.6/site-packages/sklearn/linear_model/logistic.py:1300: UserWarning: 'n_jobs' > 1 does not have any effect when 'solver' is set to 'liblinear'. Got 'n_jobs' = 12.\n",
      "  \" = {}.\".format(effective_n_jobs(self.n_jobs)))\n"
     ]
    },
    {
     "name": "stdout",
     "output_type": "stream",
     "text": [
      "Current X_test shape is (75493, 168)\n",
      "**************************************************\n",
      "Predicting SLEEPING label\n",
      "TP:36432, FP:4019, FN:1664, TP:15003, Balanced Accuracy:0.9004036109236037\n",
      "\n",
      "Current X_train shape is (301853, 168)\n",
      "Using sensors ['phone_acc', 'phone_gyro', 'phone_mag', 'phone_loc', 'phone_audio', 'phone_app', 'phone_battery', 'phone_use', 'phone_callstat', 'phone_wifi', 'phone_lf', 'phone_time']\n",
      "Current X_train shape after removing missing data & zero-impute is (156949, 168)\n"
     ]
    },
    {
     "name": "stderr",
     "output_type": "stream",
     "text": [
      "/home/nsrishankar/Desktop/Self_study/custom_dl_env/lib/python3.6/site-packages/sklearn/linear_model/logistic.py:433: FutureWarning: Default solver will be changed to 'lbfgs' in 0.22. Specify a solver to silence this warning.\n",
      "  FutureWarning)\n",
      "/home/nsrishankar/Desktop/Self_study/custom_dl_env/lib/python3.6/site-packages/sklearn/linear_model/logistic.py:1300: UserWarning: 'n_jobs' > 1 does not have any effect when 'solver' is set to 'liblinear'. Got 'n_jobs' = 12.\n",
      "  \" = {}.\".format(effective_n_jobs(self.n_jobs)))\n"
     ]
    },
    {
     "name": "stdout",
     "output_type": "stream",
     "text": [
      "Current X_test shape is (75493, 168)\n",
      "**************************************************\n",
      "Predicting WATCHING_TV label\n",
      "TP:28428, FP:8336, FN:527, TP:2112, Balanced Accuracy:0.7867797958272522\n",
      "\n",
      "Current X_train shape is (301853, 168)\n",
      "Using sensors ['phone_acc', 'phone_gyro', 'phone_mag', 'phone_loc', 'phone_audio', 'phone_app', 'phone_battery', 'phone_use', 'phone_callstat', 'phone_wifi', 'phone_lf', 'phone_time']\n",
      "Current X_train shape after removing missing data & zero-impute is (237091, 168)\n"
     ]
    },
    {
     "name": "stderr",
     "output_type": "stream",
     "text": [
      "/home/nsrishankar/Desktop/Self_study/custom_dl_env/lib/python3.6/site-packages/sklearn/linear_model/logistic.py:433: FutureWarning: Default solver will be changed to 'lbfgs' in 0.22. Specify a solver to silence this warning.\n",
      "  FutureWarning)\n",
      "/home/nsrishankar/Desktop/Self_study/custom_dl_env/lib/python3.6/site-packages/sklearn/linear_model/logistic.py:1300: UserWarning: 'n_jobs' > 1 does not have any effect when 'solver' is set to 'liblinear'. Got 'n_jobs' = 12.\n",
      "  \" = {}.\".format(effective_n_jobs(self.n_jobs)))\n"
     ]
    },
    {
     "name": "stdout",
     "output_type": "stream",
     "text": [
      "Current X_test shape is (75493, 168)\n",
      "**************************************************\n",
      "Predicting EATING label\n",
      "TP:35747, FP:20305, FN:713, TP:2625, Balanced Accuracy:0.712073066664067\n",
      "\n",
      "Current X_train shape is (301853, 168)\n",
      "Using sensors ['phone_acc', 'phone_gyro', 'phone_mag', 'phone_loc', 'phone_audio', 'phone_app', 'phone_battery', 'phone_use', 'phone_callstat', 'phone_wifi', 'phone_lf', 'phone_time']\n",
      "Current X_train shape after removing missing data & zero-impute is (107578, 168)\n"
     ]
    },
    {
     "name": "stderr",
     "output_type": "stream",
     "text": [
      "/home/nsrishankar/Desktop/Self_study/custom_dl_env/lib/python3.6/site-packages/sklearn/linear_model/logistic.py:433: FutureWarning: Default solver will be changed to 'lbfgs' in 0.22. Specify a solver to silence this warning.\n",
      "  FutureWarning)\n",
      "/home/nsrishankar/Desktop/Self_study/custom_dl_env/lib/python3.6/site-packages/sklearn/linear_model/logistic.py:1300: UserWarning: 'n_jobs' > 1 does not have any effect when 'solver' is set to 'liblinear'. Got 'n_jobs' = 12.\n",
      "  \" = {}.\".format(effective_n_jobs(self.n_jobs)))\n"
     ]
    },
    {
     "name": "stdout",
     "output_type": "stream",
     "text": [
      "Current X_test shape is (75493, 168)\n",
      "**************************************************\n",
      "Predicting PHONE_IN_POCKET label\n",
      "TP:18260, FP:3833, FN:653, TP:4040, Balanced Accuracy:0.843681364046484\n",
      "\n",
      "Current X_train shape is (301853, 168)\n",
      "Using sensors ['phone_acc', 'phone_gyro', 'phone_mag', 'phone_loc', 'phone_audio', 'phone_app', 'phone_battery', 'phone_use', 'phone_callstat', 'phone_wifi', 'phone_lf', 'phone_time']\n",
      "Current X_train shape after removing missing data & zero-impute is (223541, 168)\n"
     ]
    },
    {
     "name": "stderr",
     "output_type": "stream",
     "text": [
      "/home/nsrishankar/Desktop/Self_study/custom_dl_env/lib/python3.6/site-packages/sklearn/linear_model/logistic.py:433: FutureWarning: Default solver will be changed to 'lbfgs' in 0.22. Specify a solver to silence this warning.\n",
      "  FutureWarning)\n",
      "/home/nsrishankar/Desktop/Self_study/custom_dl_env/lib/python3.6/site-packages/sklearn/linear_model/logistic.py:1300: UserWarning: 'n_jobs' > 1 does not have any effect when 'solver' is set to 'liblinear'. Got 'n_jobs' = 12.\n",
      "  \" = {}.\".format(effective_n_jobs(self.n_jobs)))\n"
     ]
    },
    {
     "name": "stdout",
     "output_type": "stream",
     "text": [
      "Current X_test shape is (75493, 168)\n",
      "**************************************************\n",
      "Predicting TALKING label\n",
      "TP:33848, FP:14839, FN:1669, TP:5649, Balanced Accuracy:0.7335743020575183\n",
      "\n",
      "Current X_train shape is (301853, 168)\n",
      "Using sensors ['phone_acc', 'phone_gyro', 'phone_mag', 'phone_loc', 'phone_audio', 'phone_app', 'phone_battery', 'phone_use', 'phone_callstat', 'phone_wifi', 'phone_lf', 'phone_time']\n",
      "Current X_train shape after removing missing data & zero-impute is (104810, 168)\n"
     ]
    },
    {
     "name": "stderr",
     "output_type": "stream",
     "text": [
      "/home/nsrishankar/Desktop/Self_study/custom_dl_env/lib/python3.6/site-packages/sklearn/linear_model/logistic.py:433: FutureWarning: Default solver will be changed to 'lbfgs' in 0.22. Specify a solver to silence this warning.\n",
      "  FutureWarning)\n",
      "/home/nsrishankar/Desktop/Self_study/custom_dl_env/lib/python3.6/site-packages/sklearn/linear_model/logistic.py:1300: UserWarning: 'n_jobs' > 1 does not have any effect when 'solver' is set to 'liblinear'. Got 'n_jobs' = 12.\n",
      "  \" = {}.\".format(effective_n_jobs(self.n_jobs)))\n"
     ]
    },
    {
     "name": "stdout",
     "output_type": "stream",
     "text": [
      "Current X_test shape is (75493, 168)\n",
      "**************************************************\n",
      "Predicting DRIVE_-_I_M_A_PASSENGER label\n",
      "TP:23338, FP:2460, FN:36, TP:443, Balanced Accuracy:0.9147435973172655\n",
      "\n",
      "Current X_train shape is (301853, 168)\n",
      "Using sensors ['phone_acc', 'phone_gyro', 'phone_mag', 'phone_loc', 'phone_audio', 'phone_app', 'phone_battery', 'phone_use', 'phone_callstat', 'phone_wifi', 'phone_lf', 'phone_time']\n",
      "Current X_train shape after removing missing data & zero-impute is (245191, 168)\n"
     ]
    },
    {
     "name": "stderr",
     "output_type": "stream",
     "text": [
      "/home/nsrishankar/Desktop/Self_study/custom_dl_env/lib/python3.6/site-packages/sklearn/linear_model/logistic.py:433: FutureWarning: Default solver will be changed to 'lbfgs' in 0.22. Specify a solver to silence this warning.\n",
      "  FutureWarning)\n",
      "/home/nsrishankar/Desktop/Self_study/custom_dl_env/lib/python3.6/site-packages/sklearn/linear_model/logistic.py:1300: UserWarning: 'n_jobs' > 1 does not have any effect when 'solver' is set to 'liblinear'. Got 'n_jobs' = 12.\n",
      "  \" = {}.\".format(effective_n_jobs(self.n_jobs)))\n"
     ]
    },
    {
     "name": "stdout",
     "output_type": "stream",
     "text": [
      "Current X_test shape is (75493, 168)\n",
      "**************************************************\n",
      "Predicting OR_standing label\n",
      "TP:34100, FP:19824, FN:1930, TP:5549, Balanced Accuracy:0.6871577979849898\n",
      "\n",
      "Current X_train shape is (301853, 168)\n",
      "Using sensors ['phone_acc', 'phone_gyro', 'phone_mag', 'phone_loc', 'phone_audio', 'phone_app', 'phone_battery', 'phone_use', 'phone_callstat', 'phone_wifi', 'phone_lf', 'phone_time']\n",
      "Current X_train shape after removing missing data & zero-impute is (139665, 168)\n"
     ]
    },
    {
     "name": "stderr",
     "output_type": "stream",
     "text": [
      "/home/nsrishankar/Desktop/Self_study/custom_dl_env/lib/python3.6/site-packages/sklearn/linear_model/logistic.py:433: FutureWarning: Default solver will be changed to 'lbfgs' in 0.22. Specify a solver to silence this warning.\n",
      "  FutureWarning)\n",
      "/home/nsrishankar/Desktop/Self_study/custom_dl_env/lib/python3.6/site-packages/sklearn/linear_model/logistic.py:1300: UserWarning: 'n_jobs' > 1 does not have any effect when 'solver' is set to 'liblinear'. Got 'n_jobs' = 12.\n",
      "  \" = {}.\".format(effective_n_jobs(self.n_jobs)))\n"
     ]
    },
    {
     "name": "stdout",
     "output_type": "stream",
     "text": [
      "Current X_test shape is (75493, 168)\n",
      "**************************************************\n",
      "Predicting IN_A_CAR label\n",
      "TP:30304, FP:3476, FN:170, TP:1081, Balanced Accuracy:0.8806037940517923\n",
      "\n",
      "Current X_train shape is (301853, 168)\n",
      "Using sensors ['phone_acc', 'phone_gyro', 'phone_mag', 'phone_loc', 'phone_audio', 'phone_app', 'phone_battery', 'phone_use', 'phone_callstat', 'phone_wifi', 'phone_lf', 'phone_time']\n",
      "Current X_train shape after removing missing data & zero-impute is (192605, 168)\n"
     ]
    },
    {
     "name": "stderr",
     "output_type": "stream",
     "text": [
      "/home/nsrishankar/Desktop/Self_study/custom_dl_env/lib/python3.6/site-packages/sklearn/linear_model/logistic.py:433: FutureWarning: Default solver will be changed to 'lbfgs' in 0.22. Specify a solver to silence this warning.\n",
      "  FutureWarning)\n",
      "/home/nsrishankar/Desktop/Self_study/custom_dl_env/lib/python3.6/site-packages/sklearn/linear_model/logistic.py:1300: UserWarning: 'n_jobs' > 1 does not have any effect when 'solver' is set to 'liblinear'. Got 'n_jobs' = 12.\n",
      "  \" = {}.\".format(effective_n_jobs(self.n_jobs)))\n"
     ]
    },
    {
     "name": "stdout",
     "output_type": "stream",
     "text": [
      "Current X_test shape is (75493, 168)\n",
      "**************************************************\n",
      "Predicting OR_exercise label\n",
      "TP:39502, FP:7085, FN:274, TP:1371, Balanced Accuracy:0.8406767989008765\n",
      "\n",
      "Current X_train shape is (301853, 168)\n",
      "Using sensors ['phone_acc', 'phone_gyro', 'phone_mag', 'phone_loc', 'phone_audio', 'phone_app', 'phone_battery', 'phone_use', 'phone_callstat', 'phone_wifi', 'phone_lf', 'phone_time']\n",
      "Current X_train shape after removing missing data & zero-impute is (35507, 168)\n"
     ]
    },
    {
     "name": "stderr",
     "output_type": "stream",
     "text": [
      "/home/nsrishankar/Desktop/Self_study/custom_dl_env/lib/python3.6/site-packages/sklearn/linear_model/logistic.py:433: FutureWarning: Default solver will be changed to 'lbfgs' in 0.22. Specify a solver to silence this warning.\n",
      "  FutureWarning)\n",
      "/home/nsrishankar/Desktop/Self_study/custom_dl_env/lib/python3.6/site-packages/sklearn/linear_model/logistic.py:1300: UserWarning: 'n_jobs' > 1 does not have any effect when 'solver' is set to 'liblinear'. Got 'n_jobs' = 12.\n",
      "  \" = {}.\".format(effective_n_jobs(self.n_jobs)))\n"
     ]
    },
    {
     "name": "stdout",
     "output_type": "stream",
     "text": [
      "Current X_test shape is (75493, 168)\n",
      "**************************************************\n",
      "Predicting AT_THE_GYM label\n",
      "TP:7897, FP:753, FN:21, TP:215, Balanced Accuracy:0.9119824630155775\n",
      "\n",
      "Current X_train shape is (301853, 168)\n",
      "Using sensors ['phone_acc', 'phone_gyro', 'phone_mag', 'phone_loc', 'phone_audio', 'phone_app', 'phone_battery', 'phone_use', 'phone_callstat', 'phone_wifi', 'phone_lf', 'phone_time']\n",
      "Current X_train shape after removing missing data & zero-impute is (20133, 168)\n"
     ]
    },
    {
     "name": "stderr",
     "output_type": "stream",
     "text": [
      "/home/nsrishankar/Desktop/Self_study/custom_dl_env/lib/python3.6/site-packages/sklearn/linear_model/logistic.py:433: FutureWarning: Default solver will be changed to 'lbfgs' in 0.22. Specify a solver to silence this warning.\n",
      "  FutureWarning)\n",
      "/home/nsrishankar/Desktop/Self_study/custom_dl_env/lib/python3.6/site-packages/sklearn/linear_model/logistic.py:1300: UserWarning: 'n_jobs' > 1 does not have any effect when 'solver' is set to 'liblinear'. Got 'n_jobs' = 12.\n",
      "  \" = {}.\".format(effective_n_jobs(self.n_jobs)))\n"
     ]
    },
    {
     "name": "stdout",
     "output_type": "stream",
     "text": [
      "Current X_test shape is (75493, 168)\n",
      "**************************************************\n",
      "Predicting SINGING label\n",
      "TP:4325, FP:534, FN:18, TP:107, Balanced Accuracy:0.8730504218975097\n",
      "\n",
      "Current X_train shape is (301853, 168)\n",
      "Using sensors ['phone_acc', 'phone_gyro', 'phone_mag', 'phone_loc', 'phone_audio', 'phone_app', 'phone_battery', 'phone_use', 'phone_callstat', 'phone_wifi', 'phone_lf', 'phone_time']\n",
      "Current X_train shape after removing missing data & zero-impute is (245191, 168)\n"
     ]
    },
    {
     "name": "stderr",
     "output_type": "stream",
     "text": [
      "/home/nsrishankar/Desktop/Self_study/custom_dl_env/lib/python3.6/site-packages/sklearn/linear_model/logistic.py:433: FutureWarning: Default solver will be changed to 'lbfgs' in 0.22. Specify a solver to silence this warning.\n",
      "  FutureWarning)\n",
      "/home/nsrishankar/Desktop/Self_study/custom_dl_env/lib/python3.6/site-packages/sklearn/linear_model/logistic.py:1300: UserWarning: 'n_jobs' > 1 does not have any effect when 'solver' is set to 'liblinear'. Got 'n_jobs' = 12.\n",
      "  \" = {}.\".format(effective_n_jobs(self.n_jobs)))\n"
     ]
    },
    {
     "name": "stdout",
     "output_type": "stream",
     "text": [
      "Current X_test shape is (75493, 168)\n",
      "**************************************************\n",
      "Predicting FIX_walking label\n",
      "TP:47673, FP:9217, FN:903, TP:3610, Balanced Accuracy:0.8189484766902763\n",
      "\n",
      "Current X_train shape is (301853, 168)\n",
      "Using sensors ['phone_acc', 'phone_gyro', 'phone_mag', 'phone_loc', 'phone_audio', 'phone_app', 'phone_battery', 'phone_use', 'phone_callstat', 'phone_wifi', 'phone_lf', 'phone_time']\n",
      "Current X_train shape after removing missing data & zero-impute is (121205, 168)\n"
     ]
    },
    {
     "name": "stderr",
     "output_type": "stream",
     "text": [
      "/home/nsrishankar/Desktop/Self_study/custom_dl_env/lib/python3.6/site-packages/sklearn/linear_model/logistic.py:433: FutureWarning: Default solver will be changed to 'lbfgs' in 0.22. Specify a solver to silence this warning.\n",
      "  FutureWarning)\n",
      "/home/nsrishankar/Desktop/Self_study/custom_dl_env/lib/python3.6/site-packages/sklearn/linear_model/logistic.py:1300: UserWarning: 'n_jobs' > 1 does not have any effect when 'solver' is set to 'liblinear'. Got 'n_jobs' = 12.\n",
      "  \" = {}.\".format(effective_n_jobs(self.n_jobs)))\n"
     ]
    },
    {
     "name": "stdout",
     "output_type": "stream",
     "text": [
      "Current X_test shape is (75493, 168)\n",
      "**************************************************\n",
      "Predicting OR_outside label\n",
      "TP:25085, FP:2796, FN:241, TP:2171, Balanced Accuracy:0.8998997858286963\n",
      "\n",
      "Current X_train shape is (301853, 168)\n",
      "Using sensors ['phone_acc', 'phone_gyro', 'phone_mag', 'phone_loc', 'phone_audio', 'phone_app', 'phone_battery', 'phone_use', 'phone_callstat', 'phone_wifi', 'phone_lf', 'phone_time']\n",
      "Current X_train shape after removing missing data & zero-impute is (111000, 168)\n"
     ]
    },
    {
     "name": "stderr",
     "output_type": "stream",
     "text": [
      "/home/nsrishankar/Desktop/Self_study/custom_dl_env/lib/python3.6/site-packages/sklearn/linear_model/logistic.py:433: FutureWarning: Default solver will be changed to 'lbfgs' in 0.22. Specify a solver to silence this warning.\n",
      "  FutureWarning)\n",
      "/home/nsrishankar/Desktop/Self_study/custom_dl_env/lib/python3.6/site-packages/sklearn/linear_model/logistic.py:1300: UserWarning: 'n_jobs' > 1 does not have any effect when 'solver' is set to 'liblinear'. Got 'n_jobs' = 12.\n",
      "  \" = {}.\".format(effective_n_jobs(self.n_jobs)))\n"
     ]
    },
    {
     "name": "stdout",
     "output_type": "stream",
     "text": [
      "Current X_test shape is (75493, 168)\n",
      "**************************************************\n",
      "Predicting SHOPPING label\n",
      "TP:23559, FP:3843, FN:45, TP:346, Balanced Accuracy:0.8723326241798021\n",
      "\n",
      "Current X_train shape is (301853, 168)\n",
      "Using sensors ['phone_acc', 'phone_gyro', 'phone_mag', 'phone_loc', 'phone_audio', 'phone_app', 'phone_battery', 'phone_use', 'phone_callstat', 'phone_wifi', 'phone_lf', 'phone_time']\n",
      "Current X_train shape after removing missing data & zero-impute is (160830, 168)\n"
     ]
    },
    {
     "name": "stderr",
     "output_type": "stream",
     "text": [
      "/home/nsrishankar/Desktop/Self_study/custom_dl_env/lib/python3.6/site-packages/sklearn/linear_model/logistic.py:433: FutureWarning: Default solver will be changed to 'lbfgs' in 0.22. Specify a solver to silence this warning.\n",
      "  FutureWarning)\n",
      "/home/nsrishankar/Desktop/Self_study/custom_dl_env/lib/python3.6/site-packages/sklearn/linear_model/logistic.py:1300: UserWarning: 'n_jobs' > 1 does not have any effect when 'solver' is set to 'liblinear'. Got 'n_jobs' = 12.\n",
      "  \" = {}.\".format(effective_n_jobs(self.n_jobs)))\n"
     ]
    },
    {
     "name": "stdout",
     "output_type": "stream",
     "text": [
      "Current X_test shape is (75493, 168)\n",
      "**************************************************\n",
      "Predicting BATHING_-_SHOWER label\n",
      "TP:30098, FP:9800, FN:80, TP:312, Balanced Accuracy:0.7751460100808081\n",
      "\n",
      "Current X_train shape is (301853, 168)\n",
      "Using sensors ['phone_acc', 'phone_gyro', 'phone_mag', 'phone_loc', 'phone_audio', 'phone_app', 'phone_battery', 'phone_use', 'phone_callstat', 'phone_wifi', 'phone_lf', 'phone_time']\n",
      "Current X_train shape after removing missing data & zero-impute is (166291, 168)\n"
     ]
    },
    {
     "name": "stderr",
     "output_type": "stream",
     "text": [
      "/home/nsrishankar/Desktop/Self_study/custom_dl_env/lib/python3.6/site-packages/sklearn/linear_model/logistic.py:433: FutureWarning: Default solver will be changed to 'lbfgs' in 0.22. Specify a solver to silence this warning.\n",
      "  FutureWarning)\n",
      "/home/nsrishankar/Desktop/Self_study/custom_dl_env/lib/python3.6/site-packages/sklearn/linear_model/logistic.py:1300: UserWarning: 'n_jobs' > 1 does not have any effect when 'solver' is set to 'liblinear'. Got 'n_jobs' = 12.\n",
      "  \" = {}.\".format(effective_n_jobs(self.n_jobs)))\n"
     ]
    },
    {
     "name": "stdout",
     "output_type": "stream",
     "text": [
      "Current X_test shape is (75493, 168)\n",
      "**************************************************\n",
      "Predicting DRESSING label\n",
      "TP:32515, FP:8622, FN:72, TP:408, Balanced Accuracy:0.8202038311009554\n",
      "\n",
      "Current X_train shape is (301853, 168)\n",
      "Using sensors ['phone_acc', 'phone_gyro', 'phone_mag', 'phone_loc', 'phone_audio', 'phone_app', 'phone_battery', 'phone_use', 'phone_callstat', 'phone_wifi', 'phone_lf', 'phone_time']\n",
      "Current X_train shape after removing missing data & zero-impute is (56607, 168)\n"
     ]
    },
    {
     "name": "stderr",
     "output_type": "stream",
     "text": [
      "/home/nsrishankar/Desktop/Self_study/custom_dl_env/lib/python3.6/site-packages/sklearn/linear_model/logistic.py:433: FutureWarning: Default solver will be changed to 'lbfgs' in 0.22. Specify a solver to silence this warning.\n",
      "  FutureWarning)\n",
      "/home/nsrishankar/Desktop/Self_study/custom_dl_env/lib/python3.6/site-packages/sklearn/linear_model/logistic.py:1300: UserWarning: 'n_jobs' > 1 does not have any effect when 'solver' is set to 'liblinear'. Got 'n_jobs' = 12.\n",
      "  \" = {}.\".format(effective_n_jobs(self.n_jobs)))\n"
     ]
    },
    {
     "name": "stdout",
     "output_type": "stream",
     "text": [
      "Current X_test shape is (75493, 168)\n",
      "**************************************************\n",
      "Predicting DRINKING__ALCOHOL_ label\n",
      "TP:12711, FP:1155, FN:41, TP:269, Balanced Accuracy:0.8922223307882358\n",
      "\n",
      "Current X_train shape is (301853, 168)\n",
      "Using sensors ['phone_acc', 'phone_gyro', 'phone_mag', 'phone_loc', 'phone_audio', 'phone_app', 'phone_battery', 'phone_use', 'phone_callstat', 'phone_wifi', 'phone_lf', 'phone_time']\n",
      "Current X_train shape after removing missing data & zero-impute is (113415, 168)\n"
     ]
    },
    {
     "name": "stderr",
     "output_type": "stream",
     "text": [
      "/home/nsrishankar/Desktop/Self_study/custom_dl_env/lib/python3.6/site-packages/sklearn/linear_model/logistic.py:433: FutureWarning: Default solver will be changed to 'lbfgs' in 0.22. Specify a solver to silence this warning.\n",
      "  FutureWarning)\n",
      "/home/nsrishankar/Desktop/Self_study/custom_dl_env/lib/python3.6/site-packages/sklearn/linear_model/logistic.py:1300: UserWarning: 'n_jobs' > 1 does not have any effect when 'solver' is set to 'liblinear'. Got 'n_jobs' = 12.\n",
      "  \" = {}.\".format(effective_n_jobs(self.n_jobs)))\n"
     ]
    },
    {
     "name": "stdout",
     "output_type": "stream",
     "text": [
      "Current X_test shape is (75493, 168)\n",
      "**************************************************\n",
      "Predicting PHONE_IN_HAND label\n",
      "TP:19756, FP:5603, FN:688, TP:2241, Balanced Accuracy:0.7720801735019567\n",
      "\n",
      "Current X_train shape is (301853, 168)\n",
      "Using sensors ['phone_acc', 'phone_gyro', 'phone_mag', 'phone_loc', 'phone_audio', 'phone_app', 'phone_battery', 'phone_use', 'phone_callstat', 'phone_wifi', 'phone_lf', 'phone_time']\n",
      "Current X_train shape after removing missing data & zero-impute is (126026, 168)\n"
     ]
    },
    {
     "name": "stderr",
     "output_type": "stream",
     "text": [
      "/home/nsrishankar/Desktop/Self_study/custom_dl_env/lib/python3.6/site-packages/sklearn/linear_model/logistic.py:433: FutureWarning: Default solver will be changed to 'lbfgs' in 0.22. Specify a solver to silence this warning.\n",
      "  FutureWarning)\n",
      "/home/nsrishankar/Desktop/Self_study/custom_dl_env/lib/python3.6/site-packages/sklearn/linear_model/logistic.py:1300: UserWarning: 'n_jobs' > 1 does not have any effect when 'solver' is set to 'liblinear'. Got 'n_jobs' = 12.\n",
      "  \" = {}.\".format(effective_n_jobs(self.n_jobs)))\n"
     ]
    },
    {
     "name": "stdout",
     "output_type": "stream",
     "text": [
      "Current X_test shape is (75493, 168)\n",
      "**************************************************\n",
      "Predicting FIX_restaurant label\n",
      "TP:27142, FP:3992, FN:50, TP:372, Balanced Accuracy:0.8766483176070903\n",
      "\n",
      "Current X_train shape is (301853, 168)\n",
      "Using sensors ['phone_acc', 'phone_gyro', 'phone_mag', 'phone_loc', 'phone_audio', 'phone_app', 'phone_battery', 'phone_use', 'phone_callstat', 'phone_wifi', 'phone_lf', 'phone_time']\n",
      "Current X_train shape after removing missing data & zero-impute is (87206, 168)\n"
     ]
    },
    {
     "name": "stderr",
     "output_type": "stream",
     "text": [
      "/home/nsrishankar/Desktop/Self_study/custom_dl_env/lib/python3.6/site-packages/sklearn/linear_model/logistic.py:433: FutureWarning: Default solver will be changed to 'lbfgs' in 0.22. Specify a solver to silence this warning.\n",
      "  FutureWarning)\n",
      "/home/nsrishankar/Desktop/Self_study/custom_dl_env/lib/python3.6/site-packages/sklearn/linear_model/logistic.py:1300: UserWarning: 'n_jobs' > 1 does not have any effect when 'solver' is set to 'liblinear'. Got 'n_jobs' = 12.\n",
      "  \" = {}.\".format(effective_n_jobs(self.n_jobs)))\n"
     ]
    },
    {
     "name": "stdout",
     "output_type": "stream",
     "text": [
      "Current X_test shape is (75493, 168)\n",
      "**************************************************\n",
      "Predicting IN_CLASS label\n",
      "TP:17837, FP:2798, FN:100, TP:1122, Balanced Accuracy:0.8912860381734273\n",
      "\n",
      "Current X_train shape is (301853, 168)\n",
      "Using sensors ['phone_acc', 'phone_gyro', 'phone_mag', 'phone_loc', 'phone_audio', 'phone_app', 'phone_battery', 'phone_use', 'phone_callstat', 'phone_wifi', 'phone_lf', 'phone_time']\n",
      "Current X_train shape after removing missing data & zero-impute is (73926, 168)\n"
     ]
    },
    {
     "name": "stderr",
     "output_type": "stream",
     "text": [
      "/home/nsrishankar/Desktop/Self_study/custom_dl_env/lib/python3.6/site-packages/sklearn/linear_model/logistic.py:433: FutureWarning: Default solver will be changed to 'lbfgs' in 0.22. Specify a solver to silence this warning.\n",
      "  FutureWarning)\n",
      "/home/nsrishankar/Desktop/Self_study/custom_dl_env/lib/python3.6/site-packages/sklearn/linear_model/logistic.py:1300: UserWarning: 'n_jobs' > 1 does not have any effect when 'solver' is set to 'liblinear'. Got 'n_jobs' = 12.\n",
      "  \" = {}.\".format(effective_n_jobs(self.n_jobs)))\n"
     ]
    },
    {
     "name": "stdout",
     "output_type": "stream",
     "text": [
      "Current X_test shape is (75493, 168)\n",
      "**************************************************\n",
      "Predicting PHONE_IN_BAG label\n",
      "TP:14024, FP:2479, FN:321, TP:1712, Balanced Accuracy:0.8459450753770447\n",
      "\n",
      "Current X_train shape is (301853, 168)\n",
      "Using sensors ['phone_acc', 'phone_gyro', 'phone_mag', 'phone_loc', 'phone_audio', 'phone_app', 'phone_battery', 'phone_use', 'phone_callstat', 'phone_wifi', 'phone_lf', 'phone_time']\n",
      "Current X_train shape after removing missing data & zero-impute is (184904, 168)\n"
     ]
    },
    {
     "name": "stderr",
     "output_type": "stream",
     "text": [
      "/home/nsrishankar/Desktop/Self_study/custom_dl_env/lib/python3.6/site-packages/sklearn/linear_model/logistic.py:433: FutureWarning: Default solver will be changed to 'lbfgs' in 0.22. Specify a solver to silence this warning.\n",
      "  FutureWarning)\n",
      "/home/nsrishankar/Desktop/Self_study/custom_dl_env/lib/python3.6/site-packages/sklearn/linear_model/logistic.py:1300: UserWarning: 'n_jobs' > 1 does not have any effect when 'solver' is set to 'liblinear'. Got 'n_jobs' = 12.\n",
      "  \" = {}.\".format(effective_n_jobs(self.n_jobs)))\n"
     ]
    },
    {
     "name": "stdout",
     "output_type": "stream",
     "text": [
      "Current X_test shape is (75493, 168)\n",
      "**************************************************\n",
      "Predicting IN_A_MEETING label\n",
      "TP:37542, FP:7749, FN:123, TP:895, Balanced Accuracy:0.8540406289491673\n",
      "\n",
      "Current X_train shape is (301853, 168)\n",
      "Using sensors ['phone_acc', 'phone_gyro', 'phone_mag', 'phone_loc', 'phone_audio', 'phone_app', 'phone_battery', 'phone_use', 'phone_callstat', 'phone_wifi', 'phone_lf', 'phone_time']\n",
      "Current X_train shape after removing missing data & zero-impute is (176173, 168)\n"
     ]
    },
    {
     "name": "stderr",
     "output_type": "stream",
     "text": [
      "/home/nsrishankar/Desktop/Self_study/custom_dl_env/lib/python3.6/site-packages/sklearn/linear_model/logistic.py:433: FutureWarning: Default solver will be changed to 'lbfgs' in 0.22. Specify a solver to silence this warning.\n",
      "  FutureWarning)\n",
      "/home/nsrishankar/Desktop/Self_study/custom_dl_env/lib/python3.6/site-packages/sklearn/linear_model/logistic.py:1300: UserWarning: 'n_jobs' > 1 does not have any effect when 'solver' is set to 'liblinear'. Got 'n_jobs' = 12.\n",
      "  \" = {}.\".format(effective_n_jobs(self.n_jobs)))\n"
     ]
    },
    {
     "name": "stdout",
     "output_type": "stream",
     "text": [
      "Current X_test shape is (75493, 168)\n",
      "**************************************************\n",
      "Predicting TOILET label\n",
      "TP:32677, FP:10869, FN:145, TP:409, Balanced Accuracy:0.7443345109474673\n",
      "\n",
      "Current X_train shape is (301853, 168)\n",
      "Using sensors ['phone_acc', 'phone_gyro', 'phone_mag', 'phone_loc', 'phone_audio', 'phone_app', 'phone_battery', 'phone_use', 'phone_callstat', 'phone_wifi', 'phone_lf', 'phone_time']\n",
      "Current X_train shape after removing missing data & zero-impute is (167448, 168)\n"
     ]
    },
    {
     "name": "stderr",
     "output_type": "stream",
     "text": [
      "/home/nsrishankar/Desktop/Self_study/custom_dl_env/lib/python3.6/site-packages/sklearn/linear_model/logistic.py:433: FutureWarning: Default solver will be changed to 'lbfgs' in 0.22. Specify a solver to silence this warning.\n",
      "  FutureWarning)\n",
      "/home/nsrishankar/Desktop/Self_study/custom_dl_env/lib/python3.6/site-packages/sklearn/linear_model/logistic.py:1300: UserWarning: 'n_jobs' > 1 does not have any effect when 'solver' is set to 'liblinear'. Got 'n_jobs' = 12.\n",
      "  \" = {}.\".format(effective_n_jobs(self.n_jobs)))\n"
     ]
    },
    {
     "name": "stdout",
     "output_type": "stream",
     "text": [
      "Current X_test shape is (75493, 168)\n",
      "**************************************************\n",
      "Predicting COOKING label\n",
      "TP:31477, FP:9651, FN:127, TP:643, Balanced Accuracy:0.8002036404560233\n",
      "\n",
      "Current X_train shape is (301853, 168)\n",
      "Using sensors ['phone_acc', 'phone_gyro', 'phone_mag', 'phone_loc', 'phone_audio', 'phone_app', 'phone_battery', 'phone_use', 'phone_callstat', 'phone_wifi', 'phone_lf', 'phone_time']\n",
      "Current X_train shape after removing missing data & zero-impute is (112675, 168)\n"
     ]
    },
    {
     "name": "stderr",
     "output_type": "stream",
     "text": [
      "/home/nsrishankar/Desktop/Self_study/custom_dl_env/lib/python3.6/site-packages/sklearn/linear_model/logistic.py:433: FutureWarning: Default solver will be changed to 'lbfgs' in 0.22. Specify a solver to silence this warning.\n",
      "  FutureWarning)\n",
      "/home/nsrishankar/Desktop/Self_study/custom_dl_env/lib/python3.6/site-packages/sklearn/linear_model/logistic.py:1300: UserWarning: 'n_jobs' > 1 does not have any effect when 'solver' is set to 'liblinear'. Got 'n_jobs' = 12.\n",
      "  \" = {}.\".format(effective_n_jobs(self.n_jobs)))\n"
     ]
    },
    {
     "name": "stdout",
     "output_type": "stream",
     "text": [
      "Current X_test shape is (75493, 168)\n",
      "**************************************************\n",
      "Predicting FIX_running label\n",
      "TP:25539, FP:2432, FN:31, TP:193, Balanced Accuracy:0.8873299737738576\n",
      "\n",
      "Current X_train shape is (301853, 168)\n",
      "Using sensors ['phone_acc', 'phone_gyro', 'phone_mag', 'phone_loc', 'phone_audio', 'phone_app', 'phone_battery', 'phone_use', 'phone_callstat', 'phone_wifi', 'phone_lf', 'phone_time']\n",
      "Current X_train shape after removing missing data & zero-impute is (108132, 168)\n"
     ]
    },
    {
     "name": "stderr",
     "output_type": "stream",
     "text": [
      "/home/nsrishankar/Desktop/Self_study/custom_dl_env/lib/python3.6/site-packages/sklearn/linear_model/logistic.py:433: FutureWarning: Default solver will be changed to 'lbfgs' in 0.22. Specify a solver to silence this warning.\n",
      "  FutureWarning)\n",
      "/home/nsrishankar/Desktop/Self_study/custom_dl_env/lib/python3.6/site-packages/sklearn/linear_model/logistic.py:1300: UserWarning: 'n_jobs' > 1 does not have any effect when 'solver' is set to 'liblinear'. Got 'n_jobs' = 12.\n",
      "  \" = {}.\".format(effective_n_jobs(self.n_jobs)))\n"
     ]
    },
    {
     "name": "stdout",
     "output_type": "stream",
     "text": [
      "Current X_test shape is (75493, 168)\n",
      "**************************************************\n",
      "Predicting BICYCLING label\n",
      "TP:23362, FP:2673, FN:137, TP:879, Balanced Accuracy:0.8812439984636067\n",
      "\n",
      "Current X_train shape is (301853, 168)\n",
      "Using sensors ['phone_acc', 'phone_gyro', 'phone_mag', 'phone_loc', 'phone_audio', 'phone_app', 'phone_battery', 'phone_use', 'phone_callstat', 'phone_wifi', 'phone_lf', 'phone_time']\n",
      "Current X_train shape after removing missing data & zero-impute is (161367, 168)\n"
     ]
    },
    {
     "name": "stderr",
     "output_type": "stream",
     "text": [
      "/home/nsrishankar/Desktop/Self_study/custom_dl_env/lib/python3.6/site-packages/sklearn/linear_model/logistic.py:433: FutureWarning: Default solver will be changed to 'lbfgs' in 0.22. Specify a solver to silence this warning.\n",
      "  FutureWarning)\n",
      "/home/nsrishankar/Desktop/Self_study/custom_dl_env/lib/python3.6/site-packages/sklearn/linear_model/logistic.py:1300: UserWarning: 'n_jobs' > 1 does not have any effect when 'solver' is set to 'liblinear'. Got 'n_jobs' = 12.\n",
      "  \" = {}.\".format(effective_n_jobs(self.n_jobs)))\n"
     ]
    },
    {
     "name": "stdout",
     "output_type": "stream",
     "text": [
      "Current X_test shape is (75493, 168)\n",
      "**************************************************\n",
      "Predicting LOC_main_workplace label\n",
      "TP:28441, FP:5145, FN:823, TP:5951, Balanced Accuracy:0.8626586119376332\n",
      "\n",
      "Current X_train shape is (301853, 168)\n",
      "Using sensors ['phone_acc', 'phone_gyro', 'phone_mag', 'phone_loc', 'phone_audio', 'phone_app', 'phone_battery', 'phone_use', 'phone_callstat', 'phone_wifi', 'phone_lf', 'phone_time']\n",
      "Current X_train shape after removing missing data & zero-impute is (135229, 168)\n"
     ]
    },
    {
     "name": "stderr",
     "output_type": "stream",
     "text": [
      "/home/nsrishankar/Desktop/Self_study/custom_dl_env/lib/python3.6/site-packages/sklearn/linear_model/logistic.py:433: FutureWarning: Default solver will be changed to 'lbfgs' in 0.22. Specify a solver to silence this warning.\n",
      "  FutureWarning)\n",
      "/home/nsrishankar/Desktop/Self_study/custom_dl_env/lib/python3.6/site-packages/sklearn/linear_model/logistic.py:1300: UserWarning: 'n_jobs' > 1 does not have any effect when 'solver' is set to 'liblinear'. Got 'n_jobs' = 12.\n",
      "  \" = {}.\".format(effective_n_jobs(self.n_jobs)))\n"
     ]
    },
    {
     "name": "stdout",
     "output_type": "stream",
     "text": [
      "Current X_test shape is (75493, 168)\n",
      "**************************************************\n",
      "Predicting ON_A_BUS label\n",
      "TP:29359, FP:4067, FN:42, TP:335, Balanced Accuracy:0.8834612059641306\n",
      "\n",
      "Current X_train shape is (301853, 168)\n",
      "Using sensors ['phone_acc', 'phone_gyro', 'phone_mag', 'phone_loc', 'phone_audio', 'phone_app', 'phone_battery', 'phone_use', 'phone_callstat', 'phone_wifi', 'phone_lf', 'phone_time']\n",
      "Current X_train shape after removing missing data & zero-impute is (129769, 168)\n"
     ]
    },
    {
     "name": "stderr",
     "output_type": "stream",
     "text": [
      "/home/nsrishankar/Desktop/Self_study/custom_dl_env/lib/python3.6/site-packages/sklearn/linear_model/logistic.py:433: FutureWarning: Default solver will be changed to 'lbfgs' in 0.22. Specify a solver to silence this warning.\n",
      "  FutureWarning)\n",
      "/home/nsrishankar/Desktop/Self_study/custom_dl_env/lib/python3.6/site-packages/sklearn/linear_model/logistic.py:1300: UserWarning: 'n_jobs' > 1 does not have any effect when 'solver' is set to 'liblinear'. Got 'n_jobs' = 12.\n",
      "  \" = {}.\".format(effective_n_jobs(self.n_jobs)))\n"
     ]
    },
    {
     "name": "stdout",
     "output_type": "stream",
     "text": [
      "Current X_test shape is (75493, 168)\n",
      "**************************************************\n",
      "Predicting DRIVE_-_I_M_THE_DRIVER label\n",
      "TP:27574, FP:3287, FN:200, TP:1434, Balanced Accuracy:0.8855455723866603\n",
      "\n",
      "Current X_train shape is (301853, 168)\n",
      "Using sensors ['phone_acc', 'phone_gyro', 'phone_mag', 'phone_loc', 'phone_audio', 'phone_app', 'phone_battery', 'phone_use', 'phone_callstat', 'phone_wifi', 'phone_lf', 'phone_time']\n",
      "Current X_train shape after removing missing data & zero-impute is (43024, 168)\n"
     ]
    },
    {
     "name": "stderr",
     "output_type": "stream",
     "text": [
      "/home/nsrishankar/Desktop/Self_study/custom_dl_env/lib/python3.6/site-packages/sklearn/linear_model/logistic.py:433: FutureWarning: Default solver will be changed to 'lbfgs' in 0.22. Specify a solver to silence this warning.\n",
      "  FutureWarning)\n",
      "/home/nsrishankar/Desktop/Self_study/custom_dl_env/lib/python3.6/site-packages/sklearn/linear_model/logistic.py:1300: UserWarning: 'n_jobs' > 1 does not have any effect when 'solver' is set to 'liblinear'. Got 'n_jobs' = 12.\n",
      "  \" = {}.\".format(effective_n_jobs(self.n_jobs)))\n"
     ]
    },
    {
     "name": "stdout",
     "output_type": "stream",
     "text": [
      "Current X_test shape is (75493, 168)\n",
      "**************************************************\n",
      "Predicting STROLLING label\n",
      "TP:9358, FP:1215, FN:23, TP:141, Balanced Accuracy:0.8724203735700461\n",
      "\n",
      "Current X_train shape is (301853, 168)\n",
      "Using sensors ['phone_acc', 'phone_gyro', 'phone_mag', 'phone_loc', 'phone_audio', 'phone_app', 'phone_battery', 'phone_use', 'phone_callstat', 'phone_wifi', 'phone_lf', 'phone_time']\n",
      "Current X_train shape after removing missing data & zero-impute is (127446, 168)\n"
     ]
    },
    {
     "name": "stderr",
     "output_type": "stream",
     "text": [
      "/home/nsrishankar/Desktop/Self_study/custom_dl_env/lib/python3.6/site-packages/sklearn/linear_model/logistic.py:433: FutureWarning: Default solver will be changed to 'lbfgs' in 0.22. Specify a solver to silence this warning.\n",
      "  FutureWarning)\n",
      "/home/nsrishankar/Desktop/Self_study/custom_dl_env/lib/python3.6/site-packages/sklearn/linear_model/logistic.py:1300: UserWarning: 'n_jobs' > 1 does not have any effect when 'solver' is set to 'liblinear'. Got 'n_jobs' = 12.\n",
      "  \" = {}.\".format(effective_n_jobs(self.n_jobs)))\n"
     ]
    },
    {
     "name": "stdout",
     "output_type": "stream",
     "text": [
      "Current X_test shape is (75493, 168)\n",
      "**************************************************\n",
      "Predicting CLEANING label\n",
      "TP:23813, FP:7437, FN:158, TP:566, Balanced Accuracy:0.7718919779005524\n",
      "\n",
      "Current X_train shape is (301853, 168)\n",
      "Using sensors ['phone_acc', 'phone_gyro', 'phone_mag', 'phone_loc', 'phone_audio', 'phone_app', 'phone_battery', 'phone_use', 'phone_callstat', 'phone_wifi', 'phone_lf', 'phone_time']\n",
      "Current X_train shape after removing missing data & zero-impute is (59157, 168)\n"
     ]
    },
    {
     "name": "stderr",
     "output_type": "stream",
     "text": [
      "/home/nsrishankar/Desktop/Self_study/custom_dl_env/lib/python3.6/site-packages/sklearn/linear_model/logistic.py:433: FutureWarning: Default solver will be changed to 'lbfgs' in 0.22. Specify a solver to silence this warning.\n",
      "  FutureWarning)\n",
      "/home/nsrishankar/Desktop/Self_study/custom_dl_env/lib/python3.6/site-packages/sklearn/linear_model/logistic.py:1300: UserWarning: 'n_jobs' > 1 does not have any effect when 'solver' is set to 'liblinear'. Got 'n_jobs' = 12.\n",
      "  \" = {}.\".format(effective_n_jobs(self.n_jobs)))\n"
     ]
    },
    {
     "name": "stdout",
     "output_type": "stream",
     "text": [
      "Current X_test shape is (75493, 168)\n",
      "**************************************************\n",
      "Predicting DOING_LAUNDRY label\n",
      "TP:12657, FP:2050, FN:19, TP:89, Balanced Accuracy:0.8423423338344804\n",
      "\n",
      "Current X_train shape is (301853, 168)\n",
      "Using sensors ['phone_acc', 'phone_gyro', 'phone_mag', 'phone_loc', 'phone_audio', 'phone_app', 'phone_battery', 'phone_use', 'phone_callstat', 'phone_wifi', 'phone_lf', 'phone_time']\n",
      "Current X_train shape after removing missing data & zero-impute is (109159, 168)\n"
     ]
    },
    {
     "name": "stderr",
     "output_type": "stream",
     "text": [
      "/home/nsrishankar/Desktop/Self_study/custom_dl_env/lib/python3.6/site-packages/sklearn/linear_model/logistic.py:433: FutureWarning: Default solver will be changed to 'lbfgs' in 0.22. Specify a solver to silence this warning.\n",
      "  FutureWarning)\n",
      "/home/nsrishankar/Desktop/Self_study/custom_dl_env/lib/python3.6/site-packages/sklearn/linear_model/logistic.py:1300: UserWarning: 'n_jobs' > 1 does not have any effect when 'solver' is set to 'liblinear'. Got 'n_jobs' = 12.\n",
      "  \" = {}.\".format(effective_n_jobs(self.n_jobs)))\n"
     ]
    },
    {
     "name": "stdout",
     "output_type": "stream",
     "text": [
      "Current X_test shape is (75493, 168)\n",
      "**************************************************\n",
      "Predicting WASHING_DISHES label\n",
      "TP:21580, FP:5503, FN:38, TP:194, Balanced Accuracy:0.8165083517208276\n",
      "\n",
      "Current X_train shape is (301853, 168)\n",
      "Using sensors ['phone_acc', 'phone_gyro', 'phone_mag', 'phone_loc', 'phone_audio', 'phone_app', 'phone_battery', 'phone_use', 'phone_callstat', 'phone_wifi', 'phone_lf', 'phone_time']\n",
      "Current X_train shape after removing missing data & zero-impute is (154067, 168)\n"
     ]
    },
    {
     "name": "stderr",
     "output_type": "stream",
     "text": [
      "/home/nsrishankar/Desktop/Self_study/custom_dl_env/lib/python3.6/site-packages/sklearn/linear_model/logistic.py:433: FutureWarning: Default solver will be changed to 'lbfgs' in 0.22. Specify a solver to silence this warning.\n",
      "  FutureWarning)\n",
      "/home/nsrishankar/Desktop/Self_study/custom_dl_env/lib/python3.6/site-packages/sklearn/linear_model/logistic.py:1300: UserWarning: 'n_jobs' > 1 does not have any effect when 'solver' is set to 'liblinear'. Got 'n_jobs' = 12.\n",
      "  \" = {}.\".format(effective_n_jobs(self.n_jobs)))\n"
     ]
    },
    {
     "name": "stdout",
     "output_type": "stream",
     "text": [
      "Current X_test shape is (75493, 168)\n",
      "**************************************************\n",
      "Predicting SURFING_THE_INTERNET label\n",
      "TP:25566, FP:9212, FN:923, TP:2915, Balanced Accuracy:0.7473150324648344\n",
      "\n",
      "Current X_train shape is (301853, 168)\n",
      "Using sensors ['phone_acc', 'phone_gyro', 'phone_mag', 'phone_loc', 'phone_audio', 'phone_app', 'phone_battery', 'phone_use', 'phone_callstat', 'phone_wifi', 'phone_lf', 'phone_time']\n",
      "Current X_train shape after removing missing data & zero-impute is (43633, 168)\n"
     ]
    },
    {
     "name": "stderr",
     "output_type": "stream",
     "text": [
      "/home/nsrishankar/Desktop/Self_study/custom_dl_env/lib/python3.6/site-packages/sklearn/linear_model/logistic.py:433: FutureWarning: Default solver will be changed to 'lbfgs' in 0.22. Specify a solver to silence this warning.\n",
      "  FutureWarning)\n",
      "/home/nsrishankar/Desktop/Self_study/custom_dl_env/lib/python3.6/site-packages/sklearn/linear_model/logistic.py:1300: UserWarning: 'n_jobs' > 1 does not have any effect when 'solver' is set to 'liblinear'. Got 'n_jobs' = 12.\n",
      "  \" = {}.\".format(effective_n_jobs(self.n_jobs)))\n"
     ]
    },
    {
     "name": "stdout",
     "output_type": "stream",
     "text": [
      "Current X_test shape is (75493, 168)\n",
      "**************************************************\n",
      "Predicting AT_A_PARTY label\n",
      "TP:10127, FP:510, FN:6, TP:287, Balanced Accuracy:0.9657881674533577\n",
      "\n",
      "Current X_train shape is (301853, 168)\n",
      "Using sensors ['phone_acc', 'phone_gyro', 'phone_mag', 'phone_loc', 'phone_audio', 'phone_app', 'phone_battery', 'phone_use', 'phone_callstat', 'phone_wifi', 'phone_lf', 'phone_time']\n",
      "Current X_train shape after removing missing data & zero-impute is (189977, 168)\n"
     ]
    },
    {
     "name": "stderr",
     "output_type": "stream",
     "text": [
      "/home/nsrishankar/Desktop/Self_study/custom_dl_env/lib/python3.6/site-packages/sklearn/linear_model/logistic.py:433: FutureWarning: Default solver will be changed to 'lbfgs' in 0.22. Specify a solver to silence this warning.\n",
      "  FutureWarning)\n",
      "/home/nsrishankar/Desktop/Self_study/custom_dl_env/lib/python3.6/site-packages/sklearn/linear_model/logistic.py:1300: UserWarning: 'n_jobs' > 1 does not have any effect when 'solver' is set to 'liblinear'. Got 'n_jobs' = 12.\n",
      "  \" = {}.\".format(effective_n_jobs(self.n_jobs)))\n"
     ]
    },
    {
     "name": "stdout",
     "output_type": "stream",
     "text": [
      "Current X_test shape is (75493, 168)\n",
      "**************************************************\n",
      "Predicting COMPUTER_WORK label\n",
      "TP:29505, FP:10357, FN:1416, TP:6304, Balanced Accuracy:0.7783794635534043\n",
      "\n",
      "Current X_train shape is (301853, 168)\n",
      "Using sensors ['phone_acc', 'phone_gyro', 'phone_mag', 'phone_loc', 'phone_audio', 'phone_app', 'phone_battery', 'phone_use', 'phone_callstat', 'phone_wifi', 'phone_lf', 'phone_time']\n",
      "Current X_train shape after removing missing data & zero-impute is (159027, 168)\n"
     ]
    },
    {
     "name": "stderr",
     "output_type": "stream",
     "text": [
      "/home/nsrishankar/Desktop/Self_study/custom_dl_env/lib/python3.6/site-packages/sklearn/linear_model/logistic.py:433: FutureWarning: Default solver will be changed to 'lbfgs' in 0.22. Specify a solver to silence this warning.\n",
      "  FutureWarning)\n",
      "/home/nsrishankar/Desktop/Self_study/custom_dl_env/lib/python3.6/site-packages/sklearn/linear_model/logistic.py:1300: UserWarning: 'n_jobs' > 1 does not have any effect when 'solver' is set to 'liblinear'. Got 'n_jobs' = 12.\n",
      "  \" = {}.\".format(effective_n_jobs(self.n_jobs)))\n"
     ]
    },
    {
     "name": "stdout",
     "output_type": "stream",
     "text": [
      "Current X_test shape is (75493, 168)\n",
      "**************************************************\n",
      "Predicting GROOMING label\n",
      "TP:29733, FP:9407, FN:131, TP:502, Balanced Accuracy:0.7763533061937502\n",
      "\n",
      "Current X_train shape is (301853, 168)\n",
      "Using sensors ['phone_acc', 'phone_gyro', 'phone_mag', 'phone_loc', 'phone_audio', 'phone_app', 'phone_battery', 'phone_use', 'phone_callstat', 'phone_wifi', 'phone_lf', 'phone_time']\n",
      "Current X_train shape after removing missing data & zero-impute is (75700, 168)\n"
     ]
    },
    {
     "name": "stderr",
     "output_type": "stream",
     "text": [
      "/home/nsrishankar/Desktop/Self_study/custom_dl_env/lib/python3.6/site-packages/sklearn/linear_model/logistic.py:433: FutureWarning: Default solver will be changed to 'lbfgs' in 0.22. Specify a solver to silence this warning.\n",
      "  FutureWarning)\n",
      "/home/nsrishankar/Desktop/Self_study/custom_dl_env/lib/python3.6/site-packages/sklearn/linear_model/logistic.py:1300: UserWarning: 'n_jobs' > 1 does not have any effect when 'solver' is set to 'liblinear'. Got 'n_jobs' = 12.\n",
      "  \" = {}.\".format(effective_n_jobs(self.n_jobs)))\n"
     ]
    },
    {
     "name": "stdout",
     "output_type": "stream",
     "text": [
      "Current X_test shape is (75493, 168)\n",
      "**************************************************\n",
      "Predicting STAIRS_-_GOING_UP label\n",
      "TP:16512, FP:2253, FN:20, TP:144, Balanced Accuracy:0.8789924158234388\n",
      "\n",
      "Current X_train shape is (301853, 168)\n",
      "Using sensors ['phone_acc', 'phone_gyro', 'phone_mag', 'phone_loc', 'phone_audio', 'phone_app', 'phone_battery', 'phone_use', 'phone_callstat', 'phone_wifi', 'phone_lf', 'phone_time']\n",
      "Current X_train shape after removing missing data & zero-impute is (75536, 168)\n"
     ]
    },
    {
     "name": "stderr",
     "output_type": "stream",
     "text": [
      "/home/nsrishankar/Desktop/Self_study/custom_dl_env/lib/python3.6/site-packages/sklearn/linear_model/logistic.py:433: FutureWarning: Default solver will be changed to 'lbfgs' in 0.22. Specify a solver to silence this warning.\n",
      "  FutureWarning)\n",
      "/home/nsrishankar/Desktop/Self_study/custom_dl_env/lib/python3.6/site-packages/sklearn/linear_model/logistic.py:1300: UserWarning: 'n_jobs' > 1 does not have any effect when 'solver' is set to 'liblinear'. Got 'n_jobs' = 12.\n",
      "  \" = {}.\".format(effective_n_jobs(self.n_jobs)))\n"
     ]
    },
    {
     "name": "stdout",
     "output_type": "stream",
     "text": [
      "Current X_test shape is (75493, 168)\n",
      "**************************************************\n",
      "Predicting STAIRS_-_GOING_DOWN label\n",
      "TP:16281, FP:2438, FN:20, TP:140, Balanced Accuracy:0.8723789999465783\n",
      "\n",
      "Current X_train shape is (301853, 168)\n",
      "Using sensors ['phone_acc', 'phone_gyro', 'phone_mag', 'phone_loc', 'phone_audio', 'phone_app', 'phone_battery', 'phone_use', 'phone_callstat', 'phone_wifi', 'phone_lf', 'phone_time']\n",
      "Current X_train shape after removing missing data & zero-impute is (89679, 168)\n"
     ]
    },
    {
     "name": "stderr",
     "output_type": "stream",
     "text": [
      "/home/nsrishankar/Desktop/Self_study/custom_dl_env/lib/python3.6/site-packages/sklearn/linear_model/logistic.py:433: FutureWarning: Default solver will be changed to 'lbfgs' in 0.22. Specify a solver to silence this warning.\n",
      "  FutureWarning)\n",
      "/home/nsrishankar/Desktop/Self_study/custom_dl_env/lib/python3.6/site-packages/sklearn/linear_model/logistic.py:1300: UserWarning: 'n_jobs' > 1 does not have any effect when 'solver' is set to 'liblinear'. Got 'n_jobs' = 12.\n",
      "  \" = {}.\".format(effective_n_jobs(self.n_jobs)))\n"
     ]
    },
    {
     "name": "stdout",
     "output_type": "stream",
     "text": [
      "Current X_test shape is (75493, 168)\n",
      "**************************************************\n",
      "Predicting WITH_CO-WORKERS label\n",
      "TP:16876, FP:4273, FN:106, TP:1130, Balanced Accuracy:0.8560984162149863\n",
      "\n"
     ]
    }
   ],
   "source": [
    "# Loop through label possibilities and train/test logistic regression model\n",
    "for label in label_possibilities:\n",
    "    trained_model=scc_train(X_train=X_train,\n",
    "                            Y_train=Y_train,\n",
    "                            M=M_train,\n",
    "                            all_sensornames=feature_names,\n",
    "                            all_labelnames=labelname_user,\n",
    "                            used_sensors=sensor_types,\n",
    "                            Y_target=label,\n",
    "                            clf=clf1,\n",
    "                            clf_type='logisticregression')\n",
    "\n",
    "    tn,fp,fn,tp,bal_accuracy=scc_test(X_test=X_test,\n",
    "                                           Y_test=Y_test,\n",
    "                                           M=M_test,\n",
    "                                           all_sensornames=feature_names,\n",
    "                                           all_labelnames=labelname_user,\n",
    "                                           used_sensors=sensor_types,\n",
    "                                           Y_target=label,\n",
    "                                           trained_model=trained_model)\n",
    "    print('*'*50)\n",
    "    print('Predicting {} label'.format(label))\n",
    "    print('TP:{}, FP:{}, FN:{}, TP:{}, Balanced Accuracy:{}\\n'.format(tn,fp,fn,tp,bal_accuracy))"
   ]
  },
  {
   "cell_type": "markdown",
   "metadata": {},
   "source": [
    "## Support-Vector"
   ]
  },
  {
   "cell_type": "code",
   "execution_count": null,
   "metadata": {},
   "outputs": [
    {
     "name": "stdout",
     "output_type": "stream",
     "text": [
      "Current X_train shape is (301853, 168)\n",
      "Using sensors ['phone_acc', 'phone_gyro', 'phone_mag', 'phone_loc', 'phone_audio', 'phone_app', 'phone_battery', 'phone_use', 'phone_callstat', 'phone_wifi', 'phone_lf', 'phone_time']\n",
      "Current X_train shape after removing missing data & zero-impute is (284244, 168)\n"
     ]
    },
    {
     "name": "stderr",
     "output_type": "stream",
     "text": [
      "/home/nsrishankar/Desktop/Self_study/custom_dl_env/lib/python3.6/site-packages/sklearn/svm/base.py:196: FutureWarning: The default value of gamma will change from 'auto' to 'scale' in version 0.22 to account better for unscaled features. Set gamma explicitly to 'auto' or 'scale' to avoid this warning.\n",
      "  \"avoid this warning.\", FutureWarning)\n"
     ]
    }
   ],
   "source": [
    "# Loop through label possibilities and train/test logistic regression model\n",
    "for label in label_possibilities:\n",
    "    trained_model=scc_train(X_train=X_train,\n",
    "                            Y_train=Y_train,\n",
    "                            M=M_train,\n",
    "                            all_sensornames=feature_names,\n",
    "                            all_labelnames=labelname_user,\n",
    "                            used_sensors=sensor_types,\n",
    "                            Y_target=label,\n",
    "                            clf=clf2,\n",
    "                            clf_type='svc')\n",
    "\n",
    "    tn,fp,fn,tp,bal_accuracy=scc_test(X_test=X_test,\n",
    "                                           Y_test=Y_test,\n",
    "                                           M=M_test,\n",
    "                                           all_sensornames=feature_names,\n",
    "                                           all_labelnames=labelname_user,\n",
    "                                           used_sensors=sensor_types,\n",
    "                                           Y_target=label,\n",
    "                                           trained_model=trained_model)\n",
    "    print('*'*50)\n",
    "    print('Predicting {} label'.format(label))\n",
    "    print('TP:{}, FP:{}, FN:{}, TP:{}, Balanced Accuracy:{}\\n'.format(tn,fp,fn,tp,bal_accuracy))"
   ]
  },
  {
   "cell_type": "markdown",
   "metadata": {},
   "source": [
    "## Random Forest"
   ]
  },
  {
   "cell_type": "code",
   "execution_count": null,
   "metadata": {},
   "outputs": [],
   "source": [
    "# Loop through label possibilities and train/test logistic regression model\n",
    "for label in label_possibilities:\n",
    "    trained_model=scc_train(X_train=X_train,\n",
    "                            Y_train=Y_train,\n",
    "                            M=M_train,\n",
    "                            all_sensornames=feature_names,\n",
    "                            all_labelnames=labelname_user,\n",
    "                            used_sensors=sensor_types,\n",
    "                            Y_target=label,\n",
    "                            clf=clf3,\n",
    "                            clf_type='rf')\n",
    "\n",
    "    tn,fp,fn,tp,bal_accuracy=scc_test(X_test=X_test,\n",
    "                                           Y_test=Y_test,\n",
    "                                           M=M_test,\n",
    "                                           all_sensornames=feature_names,\n",
    "                                           all_labelnames=labelname_user,\n",
    "                                           used_sensors=sensor_types,\n",
    "                                           Y_target=label,\n",
    "                                           trained_model=trained_model)\n",
    "    print('*'*50)\n",
    "    print('Predicting {} label'.format(label))\n",
    "    print('TP:{}, FP:{}, FN:{}, TP:{}, Balanced Accuracy:{}\\n'.format(tn,fp,fn,tp,bal_accuracy))"
   ]
  },
  {
   "cell_type": "markdown",
   "metadata": {},
   "source": [
    "## ANN"
   ]
  },
  {
   "cell_type": "code",
   "execution_count": null,
   "metadata": {},
   "outputs": [],
   "source": [
    "# Loop through label possibilities and train/test logistic regression model\n",
    "for label in label_possibilities:\n",
    "    trained_model=scc_train(X_train=X_train,\n",
    "                            Y_train=Y_train,\n",
    "                            M=M_train,\n",
    "                            all_sensornames=feature_names,\n",
    "                            all_labelnames=labelname_user,\n",
    "                            used_sensors=sensor_types,\n",
    "                            Y_target=label,\n",
    "                            clf=clf4,\n",
    "                            clf_type='ann')\n",
    "\n",
    "    tn,fp,fn,tp,bal_accuracy=scc_test(X_test=X_test,\n",
    "                                           Y_test=Y_test,\n",
    "                                           M=M_test,\n",
    "                                           all_sensornames=feature_names,\n",
    "                                           all_labelnames=labelname_user,\n",
    "                                           used_sensors=sensor_types,\n",
    "                                           Y_target=label,\n",
    "                                           trained_model=trained_model)\n",
    "    print('*'*50)\n",
    "    print('Predicting {} label'.format(label))\n",
    "    print('TP:{}, FP:{}, FN:{}, TP:{}, Balanced Accuracy:{}\\n'.format(tn,fp,fn,tp,bal_accuracy))"
   ]
  },
  {
   "cell_type": "markdown",
   "metadata": {},
   "source": [
    "# Custom Cross-Validation"
   ]
  },
  {
   "cell_type": "code",
   "execution_count": null,
   "metadata": {},
   "outputs": [],
   "source": [
    "# Load cross-validation user IDs\n",
    "def cross_validation_id(location):"
   ]
  },
  {
   "cell_type": "markdown",
   "metadata": {},
   "source": [
    "# Given Cross-Validation splits"
   ]
  }
 ],
 "metadata": {
  "kernelspec": {
   "display_name": "Python 3",
   "language": "python",
   "name": "python3"
  },
  "language_info": {
   "codemirror_mode": {
    "name": "ipython",
    "version": 3
   },
   "file_extension": ".py",
   "mimetype": "text/x-python",
   "name": "python",
   "nbconvert_exporter": "python",
   "pygments_lexer": "ipython3",
   "version": "3.6.8"
  },
  "toc": {
   "base_numbering": 1,
   "nav_menu": {},
   "number_sections": true,
   "sideBar": true,
   "skip_h1_title": false,
   "title_cell": "Table of Contents",
   "title_sidebar": "Contents",
   "toc_cell": true,
   "toc_position": {
    "height": "calc(100% - 180px)",
    "left": "10px",
    "top": "150px",
    "width": "353.983px"
   },
   "toc_section_display": true,
   "toc_window_display": true
  },
  "varInspector": {
   "cols": {
    "lenName": 16,
    "lenType": 16,
    "lenVar": 40
   },
   "kernels_config": {
    "python": {
     "delete_cmd_postfix": "",
     "delete_cmd_prefix": "del ",
     "library": "var_list.py",
     "varRefreshCmd": "print(var_dic_list())"
    },
    "r": {
     "delete_cmd_postfix": ") ",
     "delete_cmd_prefix": "rm(",
     "library": "var_list.r",
     "varRefreshCmd": "cat(var_dic_list()) "
    }
   },
   "types_to_exclude": [
    "module",
    "function",
    "builtin_function_or_method",
    "instance",
    "_Feature"
   ],
   "window_display": false
  }
 },
 "nbformat": 4,
 "nbformat_minor": 2
}
